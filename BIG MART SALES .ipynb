{
 "cells": [
  {
   "cell_type": "code",
   "execution_count": 133,
   "id": "3a0605e5",
   "metadata": {},
   "outputs": [],
   "source": [
    "import numpy as np\n",
    "import pandas as pd\n",
    "import matplotlib.pyplot as plt\n",
    "import seaborn as sns\n",
    "\n",
    "import warnings\n",
    "warnings.filterwarnings('ignore')\n",
    "from sklearn.preprocessing import LabelEncoder,StandardScaler\n",
    "from sklearn.model_selection import train_test_split\n",
    "import statsmodels.api as sm"
   ]
  },
  {
   "cell_type": "code",
   "execution_count": 2,
   "id": "f5bcb740",
   "metadata": {},
   "outputs": [],
   "source": [
    "train = pd.read_csv('train_v9rqX0R.csv')\n",
    "test = pd.read_csv('test_AbJTz2l.csv')"
   ]
  },
  {
   "cell_type": "code",
   "execution_count": 3,
   "id": "40179f53",
   "metadata": {
    "scrolled": true
   },
   "outputs": [
    {
     "data": {
      "text/html": [
       "<div>\n",
       "<style scoped>\n",
       "    .dataframe tbody tr th:only-of-type {\n",
       "        vertical-align: middle;\n",
       "    }\n",
       "\n",
       "    .dataframe tbody tr th {\n",
       "        vertical-align: top;\n",
       "    }\n",
       "\n",
       "    .dataframe thead th {\n",
       "        text-align: right;\n",
       "    }\n",
       "</style>\n",
       "<table border=\"1\" class=\"dataframe\">\n",
       "  <thead>\n",
       "    <tr style=\"text-align: right;\">\n",
       "      <th></th>\n",
       "      <th>Item_Identifier</th>\n",
       "      <th>Item_Weight</th>\n",
       "      <th>Item_Fat_Content</th>\n",
       "      <th>Item_Visibility</th>\n",
       "      <th>Item_Type</th>\n",
       "      <th>Item_MRP</th>\n",
       "      <th>Outlet_Identifier</th>\n",
       "      <th>Outlet_Establishment_Year</th>\n",
       "      <th>Outlet_Size</th>\n",
       "      <th>Outlet_Location_Type</th>\n",
       "      <th>Outlet_Type</th>\n",
       "      <th>Item_Outlet_Sales</th>\n",
       "    </tr>\n",
       "  </thead>\n",
       "  <tbody>\n",
       "    <tr>\n",
       "      <th>0</th>\n",
       "      <td>FDA15</td>\n",
       "      <td>9.30</td>\n",
       "      <td>Low Fat</td>\n",
       "      <td>0.016047</td>\n",
       "      <td>Dairy</td>\n",
       "      <td>249.8092</td>\n",
       "      <td>OUT049</td>\n",
       "      <td>1999</td>\n",
       "      <td>Medium</td>\n",
       "      <td>Tier 1</td>\n",
       "      <td>Supermarket Type1</td>\n",
       "      <td>3735.1380</td>\n",
       "    </tr>\n",
       "    <tr>\n",
       "      <th>1</th>\n",
       "      <td>DRC01</td>\n",
       "      <td>5.92</td>\n",
       "      <td>Regular</td>\n",
       "      <td>0.019278</td>\n",
       "      <td>Soft Drinks</td>\n",
       "      <td>48.2692</td>\n",
       "      <td>OUT018</td>\n",
       "      <td>2009</td>\n",
       "      <td>Medium</td>\n",
       "      <td>Tier 3</td>\n",
       "      <td>Supermarket Type2</td>\n",
       "      <td>443.4228</td>\n",
       "    </tr>\n",
       "    <tr>\n",
       "      <th>2</th>\n",
       "      <td>FDN15</td>\n",
       "      <td>17.50</td>\n",
       "      <td>Low Fat</td>\n",
       "      <td>0.016760</td>\n",
       "      <td>Meat</td>\n",
       "      <td>141.6180</td>\n",
       "      <td>OUT049</td>\n",
       "      <td>1999</td>\n",
       "      <td>Medium</td>\n",
       "      <td>Tier 1</td>\n",
       "      <td>Supermarket Type1</td>\n",
       "      <td>2097.2700</td>\n",
       "    </tr>\n",
       "    <tr>\n",
       "      <th>3</th>\n",
       "      <td>FDX07</td>\n",
       "      <td>19.20</td>\n",
       "      <td>Regular</td>\n",
       "      <td>0.000000</td>\n",
       "      <td>Fruits and Vegetables</td>\n",
       "      <td>182.0950</td>\n",
       "      <td>OUT010</td>\n",
       "      <td>1998</td>\n",
       "      <td>NaN</td>\n",
       "      <td>Tier 3</td>\n",
       "      <td>Grocery Store</td>\n",
       "      <td>732.3800</td>\n",
       "    </tr>\n",
       "    <tr>\n",
       "      <th>4</th>\n",
       "      <td>NCD19</td>\n",
       "      <td>8.93</td>\n",
       "      <td>Low Fat</td>\n",
       "      <td>0.000000</td>\n",
       "      <td>Household</td>\n",
       "      <td>53.8614</td>\n",
       "      <td>OUT013</td>\n",
       "      <td>1987</td>\n",
       "      <td>High</td>\n",
       "      <td>Tier 3</td>\n",
       "      <td>Supermarket Type1</td>\n",
       "      <td>994.7052</td>\n",
       "    </tr>\n",
       "  </tbody>\n",
       "</table>\n",
       "</div>"
      ],
      "text/plain": [
       "  Item_Identifier  Item_Weight Item_Fat_Content  Item_Visibility  \\\n",
       "0           FDA15         9.30          Low Fat         0.016047   \n",
       "1           DRC01         5.92          Regular         0.019278   \n",
       "2           FDN15        17.50          Low Fat         0.016760   \n",
       "3           FDX07        19.20          Regular         0.000000   \n",
       "4           NCD19         8.93          Low Fat         0.000000   \n",
       "\n",
       "               Item_Type  Item_MRP Outlet_Identifier  \\\n",
       "0                  Dairy  249.8092            OUT049   \n",
       "1            Soft Drinks   48.2692            OUT018   \n",
       "2                   Meat  141.6180            OUT049   \n",
       "3  Fruits and Vegetables  182.0950            OUT010   \n",
       "4              Household   53.8614            OUT013   \n",
       "\n",
       "   Outlet_Establishment_Year Outlet_Size Outlet_Location_Type  \\\n",
       "0                       1999      Medium               Tier 1   \n",
       "1                       2009      Medium               Tier 3   \n",
       "2                       1999      Medium               Tier 1   \n",
       "3                       1998         NaN               Tier 3   \n",
       "4                       1987        High               Tier 3   \n",
       "\n",
       "         Outlet_Type  Item_Outlet_Sales  \n",
       "0  Supermarket Type1          3735.1380  \n",
       "1  Supermarket Type2           443.4228  \n",
       "2  Supermarket Type1          2097.2700  \n",
       "3      Grocery Store           732.3800  \n",
       "4  Supermarket Type1           994.7052  "
      ]
     },
     "execution_count": 3,
     "metadata": {},
     "output_type": "execute_result"
    }
   ],
   "source": [
    "train.head()"
   ]
  },
  {
   "cell_type": "code",
   "execution_count": 130,
   "id": "9ce3326f",
   "metadata": {},
   "outputs": [
    {
     "data": {
      "text/plain": [
       "(8523, 12)"
      ]
     },
     "execution_count": 130,
     "metadata": {},
     "output_type": "execute_result"
    }
   ],
   "source": [
    "train.shape"
   ]
  },
  {
   "cell_type": "code",
   "execution_count": 4,
   "id": "6c8a387a",
   "metadata": {
    "scrolled": true
   },
   "outputs": [
    {
     "data": {
      "text/html": [
       "<div>\n",
       "<style scoped>\n",
       "    .dataframe tbody tr th:only-of-type {\n",
       "        vertical-align: middle;\n",
       "    }\n",
       "\n",
       "    .dataframe tbody tr th {\n",
       "        vertical-align: top;\n",
       "    }\n",
       "\n",
       "    .dataframe thead th {\n",
       "        text-align: right;\n",
       "    }\n",
       "</style>\n",
       "<table border=\"1\" class=\"dataframe\">\n",
       "  <thead>\n",
       "    <tr style=\"text-align: right;\">\n",
       "      <th></th>\n",
       "      <th>Item_Identifier</th>\n",
       "      <th>Item_Weight</th>\n",
       "      <th>Item_Fat_Content</th>\n",
       "      <th>Item_Visibility</th>\n",
       "      <th>Item_Type</th>\n",
       "      <th>Item_MRP</th>\n",
       "      <th>Outlet_Identifier</th>\n",
       "      <th>Outlet_Establishment_Year</th>\n",
       "      <th>Outlet_Size</th>\n",
       "      <th>Outlet_Location_Type</th>\n",
       "      <th>Outlet_Type</th>\n",
       "    </tr>\n",
       "  </thead>\n",
       "  <tbody>\n",
       "    <tr>\n",
       "      <th>0</th>\n",
       "      <td>FDW58</td>\n",
       "      <td>20.750</td>\n",
       "      <td>Low Fat</td>\n",
       "      <td>0.007565</td>\n",
       "      <td>Snack Foods</td>\n",
       "      <td>107.8622</td>\n",
       "      <td>OUT049</td>\n",
       "      <td>1999</td>\n",
       "      <td>Medium</td>\n",
       "      <td>Tier 1</td>\n",
       "      <td>Supermarket Type1</td>\n",
       "    </tr>\n",
       "    <tr>\n",
       "      <th>1</th>\n",
       "      <td>FDW14</td>\n",
       "      <td>8.300</td>\n",
       "      <td>reg</td>\n",
       "      <td>0.038428</td>\n",
       "      <td>Dairy</td>\n",
       "      <td>87.3198</td>\n",
       "      <td>OUT017</td>\n",
       "      <td>2007</td>\n",
       "      <td>NaN</td>\n",
       "      <td>Tier 2</td>\n",
       "      <td>Supermarket Type1</td>\n",
       "    </tr>\n",
       "    <tr>\n",
       "      <th>2</th>\n",
       "      <td>NCN55</td>\n",
       "      <td>14.600</td>\n",
       "      <td>Low Fat</td>\n",
       "      <td>0.099575</td>\n",
       "      <td>Others</td>\n",
       "      <td>241.7538</td>\n",
       "      <td>OUT010</td>\n",
       "      <td>1998</td>\n",
       "      <td>NaN</td>\n",
       "      <td>Tier 3</td>\n",
       "      <td>Grocery Store</td>\n",
       "    </tr>\n",
       "    <tr>\n",
       "      <th>3</th>\n",
       "      <td>FDQ58</td>\n",
       "      <td>7.315</td>\n",
       "      <td>Low Fat</td>\n",
       "      <td>0.015388</td>\n",
       "      <td>Snack Foods</td>\n",
       "      <td>155.0340</td>\n",
       "      <td>OUT017</td>\n",
       "      <td>2007</td>\n",
       "      <td>NaN</td>\n",
       "      <td>Tier 2</td>\n",
       "      <td>Supermarket Type1</td>\n",
       "    </tr>\n",
       "    <tr>\n",
       "      <th>4</th>\n",
       "      <td>FDY38</td>\n",
       "      <td>NaN</td>\n",
       "      <td>Regular</td>\n",
       "      <td>0.118599</td>\n",
       "      <td>Dairy</td>\n",
       "      <td>234.2300</td>\n",
       "      <td>OUT027</td>\n",
       "      <td>1985</td>\n",
       "      <td>Medium</td>\n",
       "      <td>Tier 3</td>\n",
       "      <td>Supermarket Type3</td>\n",
       "    </tr>\n",
       "  </tbody>\n",
       "</table>\n",
       "</div>"
      ],
      "text/plain": [
       "  Item_Identifier  Item_Weight Item_Fat_Content  Item_Visibility    Item_Type  \\\n",
       "0           FDW58       20.750          Low Fat         0.007565  Snack Foods   \n",
       "1           FDW14        8.300              reg         0.038428        Dairy   \n",
       "2           NCN55       14.600          Low Fat         0.099575       Others   \n",
       "3           FDQ58        7.315          Low Fat         0.015388  Snack Foods   \n",
       "4           FDY38          NaN          Regular         0.118599        Dairy   \n",
       "\n",
       "   Item_MRP Outlet_Identifier  Outlet_Establishment_Year Outlet_Size  \\\n",
       "0  107.8622            OUT049                       1999      Medium   \n",
       "1   87.3198            OUT017                       2007         NaN   \n",
       "2  241.7538            OUT010                       1998         NaN   \n",
       "3  155.0340            OUT017                       2007         NaN   \n",
       "4  234.2300            OUT027                       1985      Medium   \n",
       "\n",
       "  Outlet_Location_Type        Outlet_Type  \n",
       "0               Tier 1  Supermarket Type1  \n",
       "1               Tier 2  Supermarket Type1  \n",
       "2               Tier 3      Grocery Store  \n",
       "3               Tier 2  Supermarket Type1  \n",
       "4               Tier 3  Supermarket Type3  "
      ]
     },
     "execution_count": 4,
     "metadata": {},
     "output_type": "execute_result"
    }
   ],
   "source": [
    "test.head()"
   ]
  },
  {
   "cell_type": "code",
   "execution_count": 131,
   "id": "b0a7cb29",
   "metadata": {},
   "outputs": [
    {
     "data": {
      "text/plain": [
       "(5681, 11)"
      ]
     },
     "execution_count": 131,
     "metadata": {},
     "output_type": "execute_result"
    }
   ],
   "source": [
    "test.shape"
   ]
  },
  {
   "cell_type": "code",
   "execution_count": 5,
   "id": "5068209b",
   "metadata": {},
   "outputs": [],
   "source": [
    "data = pd.concat([train,test],axis=0,join='outer')"
   ]
  },
  {
   "cell_type": "code",
   "execution_count": 6,
   "id": "4bd8038a",
   "metadata": {},
   "outputs": [
    {
     "data": {
      "text/plain": [
       "(14204, 12)"
      ]
     },
     "execution_count": 6,
     "metadata": {},
     "output_type": "execute_result"
    }
   ],
   "source": [
    "data.shape"
   ]
  },
  {
   "cell_type": "code",
   "execution_count": 7,
   "id": "d3d76c66",
   "metadata": {},
   "outputs": [
    {
     "name": "stdout",
     "output_type": "stream",
     "text": [
      "<class 'pandas.core.frame.DataFrame'>\n",
      "Int64Index: 14204 entries, 0 to 5680\n",
      "Data columns (total 12 columns):\n",
      " #   Column                     Non-Null Count  Dtype  \n",
      "---  ------                     --------------  -----  \n",
      " 0   Item_Identifier            14204 non-null  object \n",
      " 1   Item_Weight                11765 non-null  float64\n",
      " 2   Item_Fat_Content           14204 non-null  object \n",
      " 3   Item_Visibility            14204 non-null  float64\n",
      " 4   Item_Type                  14204 non-null  object \n",
      " 5   Item_MRP                   14204 non-null  float64\n",
      " 6   Outlet_Identifier          14204 non-null  object \n",
      " 7   Outlet_Establishment_Year  14204 non-null  int64  \n",
      " 8   Outlet_Size                10188 non-null  object \n",
      " 9   Outlet_Location_Type       14204 non-null  object \n",
      " 10  Outlet_Type                14204 non-null  object \n",
      " 11  Item_Outlet_Sales          8523 non-null   float64\n",
      "dtypes: float64(4), int64(1), object(7)\n",
      "memory usage: 1.4+ MB\n"
     ]
    }
   ],
   "source": [
    "data.info()"
   ]
  },
  {
   "cell_type": "code",
   "execution_count": 8,
   "id": "348b4ba7",
   "metadata": {},
   "outputs": [
    {
     "data": {
      "text/plain": [
       "Item_Identifier                 0\n",
       "Item_Weight                  2439\n",
       "Item_Fat_Content                0\n",
       "Item_Visibility                 0\n",
       "Item_Type                       0\n",
       "Item_MRP                        0\n",
       "Outlet_Identifier               0\n",
       "Outlet_Establishment_Year       0\n",
       "Outlet_Size                  4016\n",
       "Outlet_Location_Type            0\n",
       "Outlet_Type                     0\n",
       "Item_Outlet_Sales            5681\n",
       "dtype: int64"
      ]
     },
     "execution_count": 8,
     "metadata": {},
     "output_type": "execute_result"
    }
   ],
   "source": [
    "data.isnull().sum()"
   ]
  },
  {
   "cell_type": "code",
   "execution_count": 9,
   "id": "b09d8aaa",
   "metadata": {},
   "outputs": [],
   "source": [
    "# treating null values in Item_Weight\n",
    "\n",
    "data['Item_Weight'] = data['Item_Weight'].fillna(data['Item_Weight'].mean())"
   ]
  },
  {
   "cell_type": "code",
   "execution_count": 58,
   "id": "73f75a81",
   "metadata": {},
   "outputs": [],
   "source": [
    "# treating null values in Outlet_Size\n",
    "data['Outlet_Size'] = data['Outlet_Size'].fillna('Medium')"
   ]
  },
  {
   "cell_type": "code",
   "execution_count": 59,
   "id": "e6a0efb7",
   "metadata": {},
   "outputs": [
    {
     "data": {
      "text/plain": [
       "Item_Identifier                 0\n",
       "Item_Weight                     0\n",
       "Item_Fat_Content                0\n",
       "Item_Visibility                 0\n",
       "Item_Type                       0\n",
       "Item_MRP                        0\n",
       "Outlet_Identifier               0\n",
       "Outlet_Establishment_Year       0\n",
       "Outlet_Size                     0\n",
       "Outlet_Location_Type            0\n",
       "Outlet_Type                     0\n",
       "Item_Outlet_Sales            5681\n",
       "Item_ID_Cat                     0\n",
       "Item_Type_Perish                0\n",
       "performing                      0\n",
       "Vintage                         0\n",
       "dtype: int64"
      ]
     },
     "execution_count": 59,
     "metadata": {},
     "output_type": "execute_result"
    }
   ],
   "source": [
    "data.isnull().sum()"
   ]
  },
  {
   "cell_type": "markdown",
   "id": "7d832cc4",
   "metadata": {},
   "source": [
    "# UNIVARIATE ANALYSIS"
   ]
  },
  {
   "cell_type": "code",
   "execution_count": 60,
   "id": "45c6b893",
   "metadata": {},
   "outputs": [],
   "source": [
    "nums = data.select_dtypes(include = np.number).columns"
   ]
  },
  {
   "cell_type": "code",
   "execution_count": 61,
   "id": "06f2a8cf",
   "metadata": {},
   "outputs": [
    {
     "data": {
      "image/png": "[encoded data removed]",
      "text/plain": [
       "<Figure size 720x432 with 6 Axes>"
      ]
     },
     "metadata": {
      "needs_background": "light"
     },
     "output_type": "display_data"
    }
   ],
   "source": [
    "n_rows=3\n",
    "n_cols=2\n",
    "counter=1\n",
    "\n",
    "plt.rcParams['figure.figsize']=[10,6]\n",
    "for i in nums:\n",
    "    plt.subplot(n_rows,n_cols,counter)\n",
    "    sns.histplot(data.loc[:,i],kde=True,color='black')\n",
    "    counter+=1\n",
    "\n",
    "plt.tight_layout()\n",
    "plt.show()"
   ]
  },
  {
   "cell_type": "markdown",
   "id": "7900b07e",
   "metadata": {},
   "source": [
    "\n",
    "## INFERENCE\n",
    "\n",
    "* Item Outlet Sales in positively skewed in nature\n",
    "* No pattern seen in outlet year\n",
    "* Item Mrp has multimodel nature\n",
    "* Item_Visibility is positively skewed "
   ]
  },
  {
   "cell_type": "code",
   "execution_count": 62,
   "id": "f1ee4e25",
   "metadata": {},
   "outputs": [
    {
     "data": {
      "text/plain": [
       "Index(['Item_Identifier', 'Item_Fat_Content', 'Item_Type', 'Outlet_Identifier',\n",
       "       'Outlet_Size', 'Outlet_Location_Type', 'Outlet_Type', 'Item_ID_Cat',\n",
       "       'Item_Type_Perish', 'performing'],\n",
       "      dtype='object')"
      ]
     },
     "execution_count": 62,
     "metadata": {},
     "output_type": "execute_result"
    }
   ],
   "source": [
    "cat = data.select_dtypes(include = object).columns\n",
    "cat"
   ]
  },
  {
   "cell_type": "code",
   "execution_count": 63,
   "id": "8cf21a3b",
   "metadata": {},
   "outputs": [
    {
     "data": {
      "image/png": "[encoded data removed]",
      "text/plain": [
       "<Figure size 2160x1080 with 1 Axes>"
      ]
     },
     "metadata": {
      "needs_background": "light"
     },
     "output_type": "display_data"
    },
    {
     "data": {
      "image/png": "[encoded data removed]",
      "text/plain": [
       "<Figure size 2160x1080 with 1 Axes>"
      ]
     },
     "metadata": {
      "needs_background": "light"
     },
     "output_type": "display_data"
    },
    {
     "data": {
      "image/png": "[encoded data removed]",
      "text/plain": [
       "<Figure size 2160x1080 with 1 Axes>"
      ]
     },
     "metadata": {
      "needs_background": "light"
     },
     "output_type": "display_data"
    },
    {
     "data": {
      "image/png": "[encoded data removed]",
      "text/plain": [
       "<Figure size 2160x1080 with 1 Axes>"
      ]
     },
     "metadata": {
      "needs_background": "light"
     },
     "output_type": "display_data"
    },
    {
     "data": {
      "image/png": "[encoded data removed]",
      "text/plain": [
       "<Figure size 2160x1080 with 1 Axes>"
      ]
     },
     "metadata": {
      "needs_background": "light"
     },
     "output_type": "display_data"
    },
    {
     "data": {
      "image/png": "[encoded data removed]",
      "text/plain": [
       "<Figure size 2160x1080 with 1 Axes>"
      ]
     },
     "metadata": {
      "needs_background": "light"
     },
     "output_type": "display_data"
    },
    {
     "data": {
      "image/png": "[encoded data removed]",
      "text/plain": [
       "<Figure size 2160x1080 with 1 Axes>"
      ]
     },
     "metadata": {
      "needs_background": "light"
     },
     "output_type": "display_data"
    },
    {
     "data": {
      "image/png": "[encoded data removed]",
      "text/plain": [
       "<Figure size 2160x1080 with 1 Axes>"
      ]
     },
     "metadata": {
      "needs_background": "light"
     },
     "output_type": "display_data"
    },
    {
     "data": {
      "image/png": "[encoded data removed]",
      "text/plain": [
       "<Figure size 2160x1080 with 1 Axes>"
      ]
     },
     "metadata": {
      "needs_background": "light"
     },
     "output_type": "display_data"
    },
    {
     "data": {
      "image/png": "[encoded data removed]",
      "text/plain": [
       "<Figure size 2160x1080 with 1 Axes>"
      ]
     },
     "metadata": {
      "needs_background": "light"
     },
     "output_type": "display_data"
    }
   ],
   "source": [
    "counter = 1\n",
    "for i in cat:\n",
    "    plt.figure(figsize=(30,15))\n",
    "    plt.subplot(3,3,counter)\n",
    "    sns.countplot(data[i])\n",
    "    plt.show()"
   ]
  },
  {
   "cell_type": "code",
   "execution_count": 64,
   "id": "58c6898f",
   "metadata": {},
   "outputs": [],
   "source": [
    "# replace LF reg and low fat into resp catgories...\n",
    "data.Item_Fat_Content.replace(to_replace=['LF','reg','low fat'],value=['Low Fat','Regular','Low Fat'],inplace=True)"
   ]
  },
  {
   "cell_type": "code",
   "execution_count": 65,
   "id": "1fd98a36",
   "metadata": {},
   "outputs": [
    {
     "data": {
      "text/plain": [
       "Fruits and Vegetables    2013\n",
       "Snack Foods              1989\n",
       "Household                1548\n",
       "Frozen Foods             1426\n",
       "Dairy                    1136\n",
       "Name: Item_Type, dtype: int64"
      ]
     },
     "execution_count": 65,
     "metadata": {},
     "output_type": "execute_result"
    }
   ],
   "source": [
    "data['Item_Type'].value_counts().head()"
   ]
  },
  {
   "cell_type": "markdown",
   "id": "b067f726",
   "metadata": {},
   "source": [
    "## INFERENCE\n",
    "\n",
    "* We realized that this store is mostly opened in tier03 cities and the type of outlet is medium size outlet the items that are sold in the outlet are fruits and vegetables,snacks,frozen, Household followed by dairy\n",
    "* lowest performing outlets - out10 and out19\n",
    "* s1 appears to be the most commonly seen outlet across the locations"
   ]
  },
  {
   "cell_type": "markdown",
   "id": "04c2c579",
   "metadata": {},
   "source": [
    "# BIVARIATE ANALYSIS"
   ]
  },
  {
   "cell_type": "code",
   "execution_count": 66,
   "id": "2326d00e",
   "metadata": {},
   "outputs": [
    {
     "data": {
      "image/png": "[encoded data removed]",
      "text/plain": [
       "<Figure size 720x432 with 6 Axes>"
      ]
     },
     "metadata": {
      "needs_background": "light"
     },
     "output_type": "display_data"
    }
   ],
   "source": [
    "n_rows=3\n",
    "n_cols=2\n",
    "counter=1\n",
    "\n",
    "plt.rcParams['figure.figsize']=[10,6]\n",
    "for i in nums:\n",
    "    plt.subplot(n_rows,n_cols,counter)\n",
    "    sns.scatterplot(i,'Item_Outlet_Sales',data=data,color='black')\n",
    "    counter+=1\n",
    "\n",
    "plt.tight_layout()\n",
    "plt.show()"
   ]
  },
  {
   "cell_type": "code",
   "execution_count": 67,
   "id": "ff902463",
   "metadata": {},
   "outputs": [
    {
     "data": {
      "image/png": "[encoded data removed]",
      "text/plain": [
       "<Figure size 720x432 with 1 Axes>"
      ]
     },
     "metadata": {
      "needs_background": "light"
     },
     "output_type": "display_data"
    }
   ],
   "source": [
    "#Cat vs num\n",
    "\n",
    "#Item_Type vs Sales\n",
    "sns.boxplot(x='Item_Type',y='Item_Outlet_Sales',data=data)\n",
    "plt.xticks(rotation=60,ha='right')\n",
    "plt.show()"
   ]
  },
  {
   "cell_type": "code",
   "execution_count": 68,
   "id": "20864af9",
   "metadata": {},
   "outputs": [
    {
     "data": {
      "image/png": "[encoded data removed]",
      "text/plain": [
       "<Figure size 720x432 with 1 Axes>"
      ]
     },
     "metadata": {
      "needs_background": "light"
     },
     "output_type": "display_data"
    }
   ],
   "source": [
    "sns.boxplot(x='Item_Fat_Content',y='Item_Outlet_Sales',data=data)\n",
    "plt.xticks(rotation=60,ha='right')\n",
    "plt.show()"
   ]
  },
  {
   "cell_type": "code",
   "execution_count": 69,
   "id": "2707b45d",
   "metadata": {},
   "outputs": [
    {
     "data": {
      "image/png": "[encoded data removed]",
      "text/plain": [
       "<Figure size 720x432 with 1 Axes>"
      ]
     },
     "metadata": {
      "needs_background": "light"
     },
     "output_type": "display_data"
    }
   ],
   "source": [
    "sns.boxplot(x='Outlet_Identifier',y='Item_Outlet_Sales',data=data)\n",
    "plt.xticks(rotation=60,ha='right')\n",
    "plt.show()"
   ]
  },
  {
   "cell_type": "code",
   "execution_count": 70,
   "id": "678f5e05",
   "metadata": {},
   "outputs": [
    {
     "data": {
      "image/png": "[encoded data removed]",
      "text/plain": [
       "<Figure size 720x432 with 1 Axes>"
      ]
     },
     "metadata": {
      "needs_background": "light"
     },
     "output_type": "display_data"
    }
   ],
   "source": [
    "sns.boxplot(x='Outlet_Size',y='Item_Outlet_Sales',data=data)\n",
    "plt.xticks(rotation=60,ha='right')\n",
    "plt.show()"
   ]
  },
  {
   "cell_type": "code",
   "execution_count": 71,
   "id": "cf77fb17",
   "metadata": {},
   "outputs": [
    {
     "data": {
      "image/png": "[encoded data removed]",
      "text/plain": [
       "<Figure size 720x432 with 1 Axes>"
      ]
     },
     "metadata": {
      "needs_background": "light"
     },
     "output_type": "display_data"
    }
   ],
   "source": [
    "sns.boxplot(x='Outlet_Location_Type',y='Item_Outlet_Sales',data=data)\n",
    "plt.xticks(rotation=60,ha='right')\n",
    "plt.show()"
   ]
  },
  {
   "cell_type": "code",
   "execution_count": 72,
   "id": "a8475b1f",
   "metadata": {},
   "outputs": [
    {
     "data": {
      "image/png": "[encoded data removed]",
      "text/plain": [
       "<Figure size 720x432 with 1 Axes>"
      ]
     },
     "metadata": {
      "needs_background": "light"
     },
     "output_type": "display_data"
    }
   ],
   "source": [
    "sns.boxplot(x='Outlet_Type',y='Item_Outlet_Sales',data=data)\n",
    "plt.xticks(rotation=60,ha='right')\n",
    "plt.show()"
   ]
  },
  {
   "cell_type": "markdown",
   "id": "9d26556f",
   "metadata": {},
   "source": [
    "## Bivariate Summary for cat vs num\n",
    "* Fruits and vegetable, and Household items have the highest outlet sales\n",
    "* Low Fat items have a slightly higher outlet Sales than Regular item sales\n",
    "* Medium Scale outlets generate more revenue\n",
    "* tier 3 cities have a considerably higher sales than other tiers\n",
    "* Supermarket type3 have the highest outlet sales while Grocery stores have the lowest\n",
    "* Most performing outlet is outlet 27"
   ]
  },
  {
   "cell_type": "markdown",
   "id": "21be8158",
   "metadata": {},
   "source": [
    "### FEATURE ENGINEERING "
   ]
  },
  {
   "cell_type": "code",
   "execution_count": 73,
   "id": "09d5ac66",
   "metadata": {},
   "outputs": [],
   "source": [
    "lst=[]\n",
    "for x in data['Item_Identifier']:\n",
    "    lst.append(x[:2])\n",
    "\n",
    "data['Item_ID_Cat']=lst"
   ]
  },
  {
   "cell_type": "code",
   "execution_count": 74,
   "id": "13abb1bb",
   "metadata": {},
   "outputs": [
    {
     "data": {
      "text/html": [
       "<div>\n",
       "<style scoped>\n",
       "    .dataframe tbody tr th:only-of-type {\n",
       "        vertical-align: middle;\n",
       "    }\n",
       "\n",
       "    .dataframe tbody tr th {\n",
       "        vertical-align: top;\n",
       "    }\n",
       "\n",
       "    .dataframe thead th {\n",
       "        text-align: right;\n",
       "    }\n",
       "</style>\n",
       "<table border=\"1\" class=\"dataframe\">\n",
       "  <thead>\n",
       "    <tr style=\"text-align: right;\">\n",
       "      <th></th>\n",
       "      <th>Item_Identifier</th>\n",
       "      <th>Item_Weight</th>\n",
       "      <th>Item_Fat_Content</th>\n",
       "      <th>Item_Visibility</th>\n",
       "      <th>Item_Type</th>\n",
       "      <th>Item_MRP</th>\n",
       "      <th>Outlet_Identifier</th>\n",
       "      <th>Outlet_Establishment_Year</th>\n",
       "      <th>Outlet_Size</th>\n",
       "      <th>Outlet_Location_Type</th>\n",
       "      <th>Outlet_Type</th>\n",
       "      <th>Item_Outlet_Sales</th>\n",
       "      <th>Item_ID_Cat</th>\n",
       "      <th>Item_Type_Perish</th>\n",
       "      <th>performing</th>\n",
       "      <th>Vintage</th>\n",
       "    </tr>\n",
       "  </thead>\n",
       "  <tbody>\n",
       "    <tr>\n",
       "      <th>0</th>\n",
       "      <td>FDA15</td>\n",
       "      <td>9.30</td>\n",
       "      <td>Low Fat</td>\n",
       "      <td>0.016047</td>\n",
       "      <td>Dairy</td>\n",
       "      <td>249.8092</td>\n",
       "      <td>OUT049</td>\n",
       "      <td>1999</td>\n",
       "      <td>Medium</td>\n",
       "      <td>Tier 1</td>\n",
       "      <td>Supermarket Type1</td>\n",
       "      <td>3735.1380</td>\n",
       "      <td>FD</td>\n",
       "      <td>Perishables</td>\n",
       "      <td>average</td>\n",
       "      <td>14</td>\n",
       "    </tr>\n",
       "    <tr>\n",
       "      <th>1</th>\n",
       "      <td>DRC01</td>\n",
       "      <td>5.92</td>\n",
       "      <td>Regular</td>\n",
       "      <td>0.019278</td>\n",
       "      <td>Soft Drinks</td>\n",
       "      <td>48.2692</td>\n",
       "      <td>OUT018</td>\n",
       "      <td>2009</td>\n",
       "      <td>Medium</td>\n",
       "      <td>Tier 3</td>\n",
       "      <td>Supermarket Type2</td>\n",
       "      <td>443.4228</td>\n",
       "      <td>DR</td>\n",
       "      <td>Non-Perishables</td>\n",
       "      <td>average</td>\n",
       "      <td>4</td>\n",
       "    </tr>\n",
       "  </tbody>\n",
       "</table>\n",
       "</div>"
      ],
      "text/plain": [
       "  Item_Identifier  Item_Weight Item_Fat_Content  Item_Visibility    Item_Type  \\\n",
       "0           FDA15         9.30          Low Fat         0.016047        Dairy   \n",
       "1           DRC01         5.92          Regular         0.019278  Soft Drinks   \n",
       "\n",
       "   Item_MRP Outlet_Identifier  Outlet_Establishment_Year Outlet_Size  \\\n",
       "0  249.8092            OUT049                       1999      Medium   \n",
       "1   48.2692            OUT018                       2009      Medium   \n",
       "\n",
       "  Outlet_Location_Type        Outlet_Type  Item_Outlet_Sales Item_ID_Cat  \\\n",
       "0               Tier 1  Supermarket Type1          3735.1380          FD   \n",
       "1               Tier 3  Supermarket Type2           443.4228          DR   \n",
       "\n",
       "  Item_Type_Perish performing  Vintage  \n",
       "0      Perishables    average       14  \n",
       "1  Non-Perishables    average        4  "
      ]
     },
     "execution_count": 74,
     "metadata": {},
     "output_type": "execute_result"
    }
   ],
   "source": [
    "data.head(2)"
   ]
  },
  {
   "cell_type": "code",
   "execution_count": 75,
   "id": "9cec74ad",
   "metadata": {},
   "outputs": [
    {
     "data": {
      "text/html": [
       "<div>\n",
       "<style scoped>\n",
       "    .dataframe tbody tr th:only-of-type {\n",
       "        vertical-align: middle;\n",
       "    }\n",
       "\n",
       "    .dataframe tbody tr th {\n",
       "        vertical-align: top;\n",
       "    }\n",
       "\n",
       "    .dataframe thead th {\n",
       "        text-align: right;\n",
       "    }\n",
       "</style>\n",
       "<table border=\"1\" class=\"dataframe\">\n",
       "  <thead>\n",
       "    <tr style=\"text-align: right;\">\n",
       "      <th>Item_Fat_Content</th>\n",
       "      <th>Low Fat</th>\n",
       "      <th>Non Edible</th>\n",
       "      <th>Regular</th>\n",
       "    </tr>\n",
       "    <tr>\n",
       "      <th>Item_ID_Cat</th>\n",
       "      <th></th>\n",
       "      <th></th>\n",
       "      <th></th>\n",
       "    </tr>\n",
       "  </thead>\n",
       "  <tbody>\n",
       "    <tr>\n",
       "      <th>DR</th>\n",
       "      <td>1208</td>\n",
       "      <td>0</td>\n",
       "      <td>109</td>\n",
       "    </tr>\n",
       "    <tr>\n",
       "      <th>FD</th>\n",
       "      <td>5291</td>\n",
       "      <td>0</td>\n",
       "      <td>4910</td>\n",
       "    </tr>\n",
       "    <tr>\n",
       "      <th>NC</th>\n",
       "      <td>0</td>\n",
       "      <td>2686</td>\n",
       "      <td>0</td>\n",
       "    </tr>\n",
       "  </tbody>\n",
       "</table>\n",
       "</div>"
      ],
      "text/plain": [
       "Item_Fat_Content  Low Fat  Non Edible  Regular\n",
       "Item_ID_Cat                                   \n",
       "DR                   1208           0      109\n",
       "FD                   5291           0     4910\n",
       "NC                      0        2686        0"
      ]
     },
     "execution_count": 75,
     "metadata": {},
     "output_type": "execute_result"
    }
   ],
   "source": [
    "pd.crosstab(data.Item_ID_Cat,data.Item_Fat_Content)"
   ]
  },
  {
   "cell_type": "code",
   "execution_count": 76,
   "id": "b26fd63d",
   "metadata": {},
   "outputs": [],
   "source": [
    "data.loc[data['Item_ID_Cat']=='NC','Item_Fat_Content']='Non Edible'"
   ]
  },
  {
   "cell_type": "code",
   "execution_count": 77,
   "id": "bfba7e19",
   "metadata": {},
   "outputs": [
    {
     "data": {
      "text/plain": [
       "array(['Low Fat', 'Regular', 'Non Edible'], dtype=object)"
      ]
     },
     "execution_count": 77,
     "metadata": {},
     "output_type": "execute_result"
    }
   ],
   "source": [
    "data['Item_Fat_Content'].unique()"
   ]
  },
  {
   "cell_type": "code",
   "execution_count": 78,
   "id": "ebe94a65",
   "metadata": {},
   "outputs": [
    {
     "data": {
      "text/plain": [
       "array(['Dairy', 'Soft Drinks', 'Meat', 'Fruits and Vegetables',\n",
       "       'Household', 'Baking Goods', 'Snack Foods', 'Frozen Foods',\n",
       "       'Breakfast', 'Health and Hygiene', 'Hard Drinks', 'Canned',\n",
       "       'Breads', 'Starchy Foods', 'Others', 'Seafood'], dtype=object)"
      ]
     },
     "execution_count": 78,
     "metadata": {},
     "output_type": "execute_result"
    }
   ],
   "source": [
    "data['Item_Type'].unique()"
   ]
  },
  {
   "cell_type": "code",
   "execution_count": 79,
   "id": "f61d866a",
   "metadata": {},
   "outputs": [],
   "source": [
    "perish = ['Dairy', 'Meat', 'Fruits and Vegetables', 'Snack Foods', 'Breakfast','Breads', 'Starchy Foods', 'Seafood']"
   ]
  },
  {
   "cell_type": "code",
   "execution_count": 80,
   "id": "7c605013",
   "metadata": {},
   "outputs": [],
   "source": [
    "def new_labels(x):\n",
    "    if x in perish:\n",
    "        return('Perishables')\n",
    "    else:\n",
    "        return('Non-Perishables')"
   ]
  },
  {
   "cell_type": "code",
   "execution_count": 81,
   "id": "fdd9b74a",
   "metadata": {},
   "outputs": [],
   "source": [
    "data['Item_Type_Perish']=data['Item_Type'].apply(new_labels)"
   ]
  },
  {
   "cell_type": "code",
   "execution_count": 82,
   "id": "4a56123f",
   "metadata": {},
   "outputs": [
    {
     "data": {
      "text/plain": [
       "Index(['OUT027', 'OUT013', 'OUT046', 'OUT017', 'OUT045', 'OUT035', 'OUT049',\n",
       "       'OUT018', 'OUT010', 'OUT019'],\n",
       "      dtype='object', name='Outlet_Identifier')"
      ]
     },
     "execution_count": 82,
     "metadata": {},
     "output_type": "execute_result"
    }
   ],
   "source": [
    "data.groupby('Outlet_Identifier')['Item_Outlet_Sales'].max().sort_values(ascending=False).index"
   ]
  },
  {
   "cell_type": "code",
   "execution_count": 83,
   "id": "54023bb0",
   "metadata": {},
   "outputs": [],
   "source": [
    "low=['OUT010','OUT019']\n",
    "high=['OUT027','OUT013']\n",
    "average=['OUT046', 'OUT017', 'OUT045', 'OUT035', 'OUT049','OUT018']"
   ]
  },
  {
   "cell_type": "code",
   "execution_count": 84,
   "id": "2f919052",
   "metadata": {},
   "outputs": [],
   "source": [
    "def high_average(x):\n",
    "    if x in low:\n",
    "        return 'low'\n",
    "    elif x in average:\n",
    "        return 'average'\n",
    "    else:\n",
    "        return 'high'"
   ]
  },
  {
   "cell_type": "code",
   "execution_count": 85,
   "id": "b4d31800",
   "metadata": {},
   "outputs": [],
   "source": [
    "data['performing']=data['Outlet_Identifier'].apply(high_average)"
   ]
  },
  {
   "cell_type": "code",
   "execution_count": 86,
   "id": "dbcd9db1",
   "metadata": {},
   "outputs": [],
   "source": [
    "data['Vintage']=2013 - data.Outlet_Establishment_Year"
   ]
  },
  {
   "cell_type": "code",
   "execution_count": 87,
   "id": "bacaf695",
   "metadata": {
    "scrolled": false
   },
   "outputs": [
    {
     "data": {
      "text/html": [
       "<div>\n",
       "<style scoped>\n",
       "    .dataframe tbody tr th:only-of-type {\n",
       "        vertical-align: middle;\n",
       "    }\n",
       "\n",
       "    .dataframe tbody tr th {\n",
       "        vertical-align: top;\n",
       "    }\n",
       "\n",
       "    .dataframe thead th {\n",
       "        text-align: right;\n",
       "    }\n",
       "</style>\n",
       "<table border=\"1\" class=\"dataframe\">\n",
       "  <thead>\n",
       "    <tr style=\"text-align: right;\">\n",
       "      <th></th>\n",
       "      <th>Item_Identifier</th>\n",
       "      <th>Item_Weight</th>\n",
       "      <th>Item_Fat_Content</th>\n",
       "      <th>Item_Visibility</th>\n",
       "      <th>Item_Type</th>\n",
       "      <th>Item_MRP</th>\n",
       "      <th>Outlet_Identifier</th>\n",
       "      <th>Outlet_Establishment_Year</th>\n",
       "      <th>Outlet_Size</th>\n",
       "      <th>Outlet_Location_Type</th>\n",
       "      <th>Outlet_Type</th>\n",
       "      <th>Item_Outlet_Sales</th>\n",
       "      <th>Item_ID_Cat</th>\n",
       "      <th>Item_Type_Perish</th>\n",
       "      <th>performing</th>\n",
       "      <th>Vintage</th>\n",
       "    </tr>\n",
       "  </thead>\n",
       "  <tbody>\n",
       "    <tr>\n",
       "      <th>0</th>\n",
       "      <td>FDA15</td>\n",
       "      <td>9.30</td>\n",
       "      <td>Low Fat</td>\n",
       "      <td>0.016047</td>\n",
       "      <td>Dairy</td>\n",
       "      <td>249.8092</td>\n",
       "      <td>OUT049</td>\n",
       "      <td>1999</td>\n",
       "      <td>Medium</td>\n",
       "      <td>Tier 1</td>\n",
       "      <td>Supermarket Type1</td>\n",
       "      <td>3735.1380</td>\n",
       "      <td>FD</td>\n",
       "      <td>Perishables</td>\n",
       "      <td>average</td>\n",
       "      <td>14</td>\n",
       "    </tr>\n",
       "    <tr>\n",
       "      <th>1</th>\n",
       "      <td>DRC01</td>\n",
       "      <td>5.92</td>\n",
       "      <td>Regular</td>\n",
       "      <td>0.019278</td>\n",
       "      <td>Soft Drinks</td>\n",
       "      <td>48.2692</td>\n",
       "      <td>OUT018</td>\n",
       "      <td>2009</td>\n",
       "      <td>Medium</td>\n",
       "      <td>Tier 3</td>\n",
       "      <td>Supermarket Type2</td>\n",
       "      <td>443.4228</td>\n",
       "      <td>DR</td>\n",
       "      <td>Non-Perishables</td>\n",
       "      <td>average</td>\n",
       "      <td>4</td>\n",
       "    </tr>\n",
       "    <tr>\n",
       "      <th>2</th>\n",
       "      <td>FDN15</td>\n",
       "      <td>17.50</td>\n",
       "      <td>Low Fat</td>\n",
       "      <td>0.016760</td>\n",
       "      <td>Meat</td>\n",
       "      <td>141.6180</td>\n",
       "      <td>OUT049</td>\n",
       "      <td>1999</td>\n",
       "      <td>Medium</td>\n",
       "      <td>Tier 1</td>\n",
       "      <td>Supermarket Type1</td>\n",
       "      <td>2097.2700</td>\n",
       "      <td>FD</td>\n",
       "      <td>Perishables</td>\n",
       "      <td>average</td>\n",
       "      <td>14</td>\n",
       "    </tr>\n",
       "    <tr>\n",
       "      <th>3</th>\n",
       "      <td>FDX07</td>\n",
       "      <td>19.20</td>\n",
       "      <td>Regular</td>\n",
       "      <td>0.000000</td>\n",
       "      <td>Fruits and Vegetables</td>\n",
       "      <td>182.0950</td>\n",
       "      <td>OUT010</td>\n",
       "      <td>1998</td>\n",
       "      <td>MEDIUM</td>\n",
       "      <td>Tier 3</td>\n",
       "      <td>Grocery Store</td>\n",
       "      <td>732.3800</td>\n",
       "      <td>FD</td>\n",
       "      <td>Perishables</td>\n",
       "      <td>low</td>\n",
       "      <td>15</td>\n",
       "    </tr>\n",
       "    <tr>\n",
       "      <th>4</th>\n",
       "      <td>NCD19</td>\n",
       "      <td>8.93</td>\n",
       "      <td>Non Edible</td>\n",
       "      <td>0.000000</td>\n",
       "      <td>Household</td>\n",
       "      <td>53.8614</td>\n",
       "      <td>OUT013</td>\n",
       "      <td>1987</td>\n",
       "      <td>High</td>\n",
       "      <td>Tier 3</td>\n",
       "      <td>Supermarket Type1</td>\n",
       "      <td>994.7052</td>\n",
       "      <td>NC</td>\n",
       "      <td>Non-Perishables</td>\n",
       "      <td>high</td>\n",
       "      <td>26</td>\n",
       "    </tr>\n",
       "  </tbody>\n",
       "</table>\n",
       "</div>"
      ],
      "text/plain": [
       "  Item_Identifier  Item_Weight Item_Fat_Content  Item_Visibility  \\\n",
       "0           FDA15         9.30          Low Fat         0.016047   \n",
       "1           DRC01         5.92          Regular         0.019278   \n",
       "2           FDN15        17.50          Low Fat         0.016760   \n",
       "3           FDX07        19.20          Regular         0.000000   \n",
       "4           NCD19         8.93       Non Edible         0.000000   \n",
       "\n",
       "               Item_Type  Item_MRP Outlet_Identifier  \\\n",
       "0                  Dairy  249.8092            OUT049   \n",
       "1            Soft Drinks   48.2692            OUT018   \n",
       "2                   Meat  141.6180            OUT049   \n",
       "3  Fruits and Vegetables  182.0950            OUT010   \n",
       "4              Household   53.8614            OUT013   \n",
       "\n",
       "   Outlet_Establishment_Year Outlet_Size Outlet_Location_Type  \\\n",
       "0                       1999      Medium               Tier 1   \n",
       "1                       2009      Medium               Tier 3   \n",
       "2                       1999      Medium               Tier 1   \n",
       "3                       1998      MEDIUM               Tier 3   \n",
       "4                       1987        High               Tier 3   \n",
       "\n",
       "         Outlet_Type  Item_Outlet_Sales Item_ID_Cat Item_Type_Perish  \\\n",
       "0  Supermarket Type1          3735.1380          FD      Perishables   \n",
       "1  Supermarket Type2           443.4228          DR  Non-Perishables   \n",
       "2  Supermarket Type1          2097.2700          FD      Perishables   \n",
       "3      Grocery Store           732.3800          FD      Perishables   \n",
       "4  Supermarket Type1           994.7052          NC  Non-Perishables   \n",
       "\n",
       "  performing  Vintage  \n",
       "0    average       14  \n",
       "1    average        4  \n",
       "2    average       14  \n",
       "3        low       15  \n",
       "4       high       26  "
      ]
     },
     "execution_count": 87,
     "metadata": {},
     "output_type": "execute_result"
    }
   ],
   "source": [
    "data.head()"
   ]
  },
  {
   "cell_type": "code",
   "execution_count": 88,
   "id": "000a42f3",
   "metadata": {},
   "outputs": [],
   "source": [
    "# dropping unnecessary columns"
   ]
  },
  {
   "cell_type": "code",
   "execution_count": 89,
   "id": "917ac203",
   "metadata": {},
   "outputs": [
    {
     "data": {
      "text/plain": [
       "Index(['Item_Identifier', 'Item_Weight', 'Item_Fat_Content', 'Item_Visibility',\n",
       "       'Item_Type', 'Item_MRP', 'Outlet_Identifier',\n",
       "       'Outlet_Establishment_Year', 'Outlet_Size', 'Outlet_Location_Type',\n",
       "       'Outlet_Type', 'Item_Outlet_Sales', 'Item_ID_Cat', 'Item_Type_Perish',\n",
       "       'performing', 'Vintage'],\n",
       "      dtype='object')"
      ]
     },
     "execution_count": 89,
     "metadata": {},
     "output_type": "execute_result"
    }
   ],
   "source": [
    "data.columns"
   ]
  },
  {
   "cell_type": "code",
   "execution_count": 90,
   "id": "53a228b4",
   "metadata": {},
   "outputs": [],
   "source": [
    "newdata = data.drop(['Item_Identifier','Item_Type','Outlet_Identifier',\n",
    "       'Outlet_Establishment_Year',], axis = 1)"
   ]
  },
  {
   "cell_type": "code",
   "execution_count": 91,
   "id": "2c94dfcf",
   "metadata": {},
   "outputs": [
    {
     "data": {
      "text/html": [
       "<div>\n",
       "<style scoped>\n",
       "    .dataframe tbody tr th:only-of-type {\n",
       "        vertical-align: middle;\n",
       "    }\n",
       "\n",
       "    .dataframe tbody tr th {\n",
       "        vertical-align: top;\n",
       "    }\n",
       "\n",
       "    .dataframe thead th {\n",
       "        text-align: right;\n",
       "    }\n",
       "</style>\n",
       "<table border=\"1\" class=\"dataframe\">\n",
       "  <thead>\n",
       "    <tr style=\"text-align: right;\">\n",
       "      <th></th>\n",
       "      <th>Item_Weight</th>\n",
       "      <th>Item_Fat_Content</th>\n",
       "      <th>Item_Visibility</th>\n",
       "      <th>Item_MRP</th>\n",
       "      <th>Outlet_Size</th>\n",
       "      <th>Outlet_Location_Type</th>\n",
       "      <th>Outlet_Type</th>\n",
       "      <th>Item_Outlet_Sales</th>\n",
       "      <th>Item_ID_Cat</th>\n",
       "      <th>Item_Type_Perish</th>\n",
       "      <th>performing</th>\n",
       "      <th>Vintage</th>\n",
       "    </tr>\n",
       "  </thead>\n",
       "  <tbody>\n",
       "    <tr>\n",
       "      <th>0</th>\n",
       "      <td>9.30</td>\n",
       "      <td>Low Fat</td>\n",
       "      <td>0.016047</td>\n",
       "      <td>249.8092</td>\n",
       "      <td>Medium</td>\n",
       "      <td>Tier 1</td>\n",
       "      <td>Supermarket Type1</td>\n",
       "      <td>3735.1380</td>\n",
       "      <td>FD</td>\n",
       "      <td>Perishables</td>\n",
       "      <td>average</td>\n",
       "      <td>14</td>\n",
       "    </tr>\n",
       "    <tr>\n",
       "      <th>1</th>\n",
       "      <td>5.92</td>\n",
       "      <td>Regular</td>\n",
       "      <td>0.019278</td>\n",
       "      <td>48.2692</td>\n",
       "      <td>Medium</td>\n",
       "      <td>Tier 3</td>\n",
       "      <td>Supermarket Type2</td>\n",
       "      <td>443.4228</td>\n",
       "      <td>DR</td>\n",
       "      <td>Non-Perishables</td>\n",
       "      <td>average</td>\n",
       "      <td>4</td>\n",
       "    </tr>\n",
       "    <tr>\n",
       "      <th>2</th>\n",
       "      <td>17.50</td>\n",
       "      <td>Low Fat</td>\n",
       "      <td>0.016760</td>\n",
       "      <td>141.6180</td>\n",
       "      <td>Medium</td>\n",
       "      <td>Tier 1</td>\n",
       "      <td>Supermarket Type1</td>\n",
       "      <td>2097.2700</td>\n",
       "      <td>FD</td>\n",
       "      <td>Perishables</td>\n",
       "      <td>average</td>\n",
       "      <td>14</td>\n",
       "    </tr>\n",
       "    <tr>\n",
       "      <th>3</th>\n",
       "      <td>19.20</td>\n",
       "      <td>Regular</td>\n",
       "      <td>0.000000</td>\n",
       "      <td>182.0950</td>\n",
       "      <td>MEDIUM</td>\n",
       "      <td>Tier 3</td>\n",
       "      <td>Grocery Store</td>\n",
       "      <td>732.3800</td>\n",
       "      <td>FD</td>\n",
       "      <td>Perishables</td>\n",
       "      <td>low</td>\n",
       "      <td>15</td>\n",
       "    </tr>\n",
       "    <tr>\n",
       "      <th>4</th>\n",
       "      <td>8.93</td>\n",
       "      <td>Non Edible</td>\n",
       "      <td>0.000000</td>\n",
       "      <td>53.8614</td>\n",
       "      <td>High</td>\n",
       "      <td>Tier 3</td>\n",
       "      <td>Supermarket Type1</td>\n",
       "      <td>994.7052</td>\n",
       "      <td>NC</td>\n",
       "      <td>Non-Perishables</td>\n",
       "      <td>high</td>\n",
       "      <td>26</td>\n",
       "    </tr>\n",
       "    <tr>\n",
       "      <th>...</th>\n",
       "      <td>...</td>\n",
       "      <td>...</td>\n",
       "      <td>...</td>\n",
       "      <td>...</td>\n",
       "      <td>...</td>\n",
       "      <td>...</td>\n",
       "      <td>...</td>\n",
       "      <td>...</td>\n",
       "      <td>...</td>\n",
       "      <td>...</td>\n",
       "      <td>...</td>\n",
       "      <td>...</td>\n",
       "    </tr>\n",
       "    <tr>\n",
       "      <th>5676</th>\n",
       "      <td>10.50</td>\n",
       "      <td>Regular</td>\n",
       "      <td>0.013496</td>\n",
       "      <td>141.3154</td>\n",
       "      <td>Small</td>\n",
       "      <td>Tier 1</td>\n",
       "      <td>Supermarket Type1</td>\n",
       "      <td>NaN</td>\n",
       "      <td>FD</td>\n",
       "      <td>Perishables</td>\n",
       "      <td>average</td>\n",
       "      <td>16</td>\n",
       "    </tr>\n",
       "    <tr>\n",
       "      <th>5677</th>\n",
       "      <td>7.60</td>\n",
       "      <td>Regular</td>\n",
       "      <td>0.142991</td>\n",
       "      <td>169.1448</td>\n",
       "      <td>Medium</td>\n",
       "      <td>Tier 3</td>\n",
       "      <td>Supermarket Type2</td>\n",
       "      <td>NaN</td>\n",
       "      <td>FD</td>\n",
       "      <td>Perishables</td>\n",
       "      <td>average</td>\n",
       "      <td>4</td>\n",
       "    </tr>\n",
       "    <tr>\n",
       "      <th>5678</th>\n",
       "      <td>10.00</td>\n",
       "      <td>Non Edible</td>\n",
       "      <td>0.073529</td>\n",
       "      <td>118.7440</td>\n",
       "      <td>MEDIUM</td>\n",
       "      <td>Tier 2</td>\n",
       "      <td>Supermarket Type1</td>\n",
       "      <td>NaN</td>\n",
       "      <td>NC</td>\n",
       "      <td>Non-Perishables</td>\n",
       "      <td>average</td>\n",
       "      <td>11</td>\n",
       "    </tr>\n",
       "    <tr>\n",
       "      <th>5679</th>\n",
       "      <td>15.30</td>\n",
       "      <td>Regular</td>\n",
       "      <td>0.000000</td>\n",
       "      <td>214.6218</td>\n",
       "      <td>MEDIUM</td>\n",
       "      <td>Tier 2</td>\n",
       "      <td>Supermarket Type1</td>\n",
       "      <td>NaN</td>\n",
       "      <td>FD</td>\n",
       "      <td>Non-Perishables</td>\n",
       "      <td>average</td>\n",
       "      <td>6</td>\n",
       "    </tr>\n",
       "    <tr>\n",
       "      <th>5680</th>\n",
       "      <td>9.50</td>\n",
       "      <td>Regular</td>\n",
       "      <td>0.104720</td>\n",
       "      <td>79.7960</td>\n",
       "      <td>MEDIUM</td>\n",
       "      <td>Tier 2</td>\n",
       "      <td>Supermarket Type1</td>\n",
       "      <td>NaN</td>\n",
       "      <td>FD</td>\n",
       "      <td>Non-Perishables</td>\n",
       "      <td>average</td>\n",
       "      <td>11</td>\n",
       "    </tr>\n",
       "  </tbody>\n",
       "</table>\n",
       "<p>14204 rows × 12 columns</p>\n",
       "</div>"
      ],
      "text/plain": [
       "      Item_Weight Item_Fat_Content  Item_Visibility  Item_MRP Outlet_Size  \\\n",
       "0            9.30          Low Fat         0.016047  249.8092      Medium   \n",
       "1            5.92          Regular         0.019278   48.2692      Medium   \n",
       "2           17.50          Low Fat         0.016760  141.6180      Medium   \n",
       "3           19.20          Regular         0.000000  182.0950      MEDIUM   \n",
       "4            8.93       Non Edible         0.000000   53.8614        High   \n",
       "...           ...              ...              ...       ...         ...   \n",
       "5676        10.50          Regular         0.013496  141.3154       Small   \n",
       "5677         7.60          Regular         0.142991  169.1448      Medium   \n",
       "5678        10.00       Non Edible         0.073529  118.7440      MEDIUM   \n",
       "5679        15.30          Regular         0.000000  214.6218      MEDIUM   \n",
       "5680         9.50          Regular         0.104720   79.7960      MEDIUM   \n",
       "\n",
       "     Outlet_Location_Type        Outlet_Type  Item_Outlet_Sales Item_ID_Cat  \\\n",
       "0                  Tier 1  Supermarket Type1          3735.1380          FD   \n",
       "1                  Tier 3  Supermarket Type2           443.4228          DR   \n",
       "2                  Tier 1  Supermarket Type1          2097.2700          FD   \n",
       "3                  Tier 3      Grocery Store           732.3800          FD   \n",
       "4                  Tier 3  Supermarket Type1           994.7052          NC   \n",
       "...                   ...                ...                ...         ...   \n",
       "5676               Tier 1  Supermarket Type1                NaN          FD   \n",
       "5677               Tier 3  Supermarket Type2                NaN          FD   \n",
       "5678               Tier 2  Supermarket Type1                NaN          NC   \n",
       "5679               Tier 2  Supermarket Type1                NaN          FD   \n",
       "5680               Tier 2  Supermarket Type1                NaN          FD   \n",
       "\n",
       "     Item_Type_Perish performing  Vintage  \n",
       "0         Perishables    average       14  \n",
       "1     Non-Perishables    average        4  \n",
       "2         Perishables    average       14  \n",
       "3         Perishables        low       15  \n",
       "4     Non-Perishables       high       26  \n",
       "...               ...        ...      ...  \n",
       "5676      Perishables    average       16  \n",
       "5677      Perishables    average        4  \n",
       "5678  Non-Perishables    average       11  \n",
       "5679  Non-Perishables    average        6  \n",
       "5680  Non-Perishables    average       11  \n",
       "\n",
       "[14204 rows x 12 columns]"
      ]
     },
     "execution_count": 91,
     "metadata": {},
     "output_type": "execute_result"
    }
   ],
   "source": [
    "newdata"
   ]
  },
  {
   "cell_type": "code",
   "execution_count": 92,
   "id": "f9b726d6",
   "metadata": {},
   "outputs": [
    {
     "name": "stdout",
     "output_type": "stream",
     "text": [
      "<class 'pandas.core.frame.DataFrame'>\n",
      "Int64Index: 14204 entries, 0 to 5680\n",
      "Data columns (total 12 columns):\n",
      " #   Column                Non-Null Count  Dtype  \n",
      "---  ------                --------------  -----  \n",
      " 0   Item_Weight           14204 non-null  float64\n",
      " 1   Item_Fat_Content      14204 non-null  object \n",
      " 2   Item_Visibility       14204 non-null  float64\n",
      " 3   Item_MRP              14204 non-null  float64\n",
      " 4   Outlet_Size           14204 non-null  object \n",
      " 5   Outlet_Location_Type  14204 non-null  object \n",
      " 6   Outlet_Type           14204 non-null  object \n",
      " 7   Item_Outlet_Sales     8523 non-null   float64\n",
      " 8   Item_ID_Cat           14204 non-null  object \n",
      " 9   Item_Type_Perish      14204 non-null  object \n",
      " 10  performing            14204 non-null  object \n",
      " 11  Vintage               14204 non-null  int64  \n",
      "dtypes: float64(4), int64(1), object(7)\n",
      "memory usage: 1.9+ MB\n"
     ]
    }
   ],
   "source": [
    "newdata.info()"
   ]
  },
  {
   "cell_type": "code",
   "execution_count": 46,
   "id": "a878d39f",
   "metadata": {},
   "outputs": [],
   "source": [
    "# splitting train final data and test final data"
   ]
  },
  {
   "cell_type": "code",
   "execution_count": 47,
   "id": "5051593e",
   "metadata": {},
   "outputs": [],
   "source": [
    "#train_f = newdata[~(newdata['Item_Outlet_Sales'].isnull())]"
   ]
  },
  {
   "cell_type": "code",
   "execution_count": 48,
   "id": "7460af04",
   "metadata": {},
   "outputs": [],
   "source": [
    "#test_f = newdata[newdata['Item_Outlet_Sales'].isnull()]"
   ]
  },
  {
   "cell_type": "code",
   "execution_count": 49,
   "id": "a0c5b1bb",
   "metadata": {},
   "outputs": [
    {
     "data": {
      "text/plain": [
       "<AxesSubplot:>"
      ]
     },
     "execution_count": 49,
     "metadata": {},
     "output_type": "execute_result"
    },
    {
     "data": {
      "image/png": "[encoded data removed]",
      "text/plain": [
       "<Figure size 720x432 with 1 Axes>"
      ]
     },
     "metadata": {
      "needs_background": "light"
     },
     "output_type": "display_data"
    }
   ],
   "source": [
    "#train_f.boxplot()"
   ]
  },
  {
   "cell_type": "code",
   "execution_count": 55,
   "id": "afe5ee46",
   "metadata": {},
   "outputs": [
    {
     "data": {
      "text/plain": [
       "<AxesSubplot:>"
      ]
     },
     "execution_count": 55,
     "metadata": {},
     "output_type": "execute_result"
    },
    {
     "data": {
      "image/png": "[encoded data removed]",
      "text/plain": [
       "<Figure size 720x432 with 1 Axes>"
      ]
     },
     "metadata": {
      "needs_background": "light"
     },
     "output_type": "display_data"
    }
   ],
   "source": [
    "newdata.boxplot()"
   ]
  },
  {
   "cell_type": "code",
   "execution_count": 97,
   "id": "6a7bbfbc",
   "metadata": {},
   "outputs": [
    {
     "data": {
      "text/html": [
       "<div>\n",
       "<style scoped>\n",
       "    .dataframe tbody tr th:only-of-type {\n",
       "        vertical-align: middle;\n",
       "    }\n",
       "\n",
       "    .dataframe tbody tr th {\n",
       "        vertical-align: top;\n",
       "    }\n",
       "\n",
       "    .dataframe thead th {\n",
       "        text-align: right;\n",
       "    }\n",
       "</style>\n",
       "<table border=\"1\" class=\"dataframe\">\n",
       "  <thead>\n",
       "    <tr style=\"text-align: right;\">\n",
       "      <th></th>\n",
       "      <th>Item_Weight</th>\n",
       "      <th>Item_Fat_Content</th>\n",
       "      <th>Item_Visibility</th>\n",
       "      <th>Item_MRP</th>\n",
       "      <th>Outlet_Size</th>\n",
       "      <th>Outlet_Location_Type</th>\n",
       "      <th>Outlet_Type</th>\n",
       "      <th>Item_Outlet_Sales</th>\n",
       "      <th>Item_ID_Cat</th>\n",
       "      <th>Item_Type_Perish</th>\n",
       "      <th>performing</th>\n",
       "      <th>Vintage</th>\n",
       "    </tr>\n",
       "  </thead>\n",
       "  <tbody>\n",
       "    <tr>\n",
       "      <th>0</th>\n",
       "      <td>9.30</td>\n",
       "      <td>Low Fat</td>\n",
       "      <td>0.016047</td>\n",
       "      <td>249.8092</td>\n",
       "      <td>Medium</td>\n",
       "      <td>Tier 1</td>\n",
       "      <td>Supermarket Type1</td>\n",
       "      <td>3735.1380</td>\n",
       "      <td>FD</td>\n",
       "      <td>Perishables</td>\n",
       "      <td>average</td>\n",
       "      <td>14</td>\n",
       "    </tr>\n",
       "    <tr>\n",
       "      <th>1</th>\n",
       "      <td>5.92</td>\n",
       "      <td>Regular</td>\n",
       "      <td>0.019278</td>\n",
       "      <td>48.2692</td>\n",
       "      <td>Medium</td>\n",
       "      <td>Tier 3</td>\n",
       "      <td>Supermarket Type2</td>\n",
       "      <td>443.4228</td>\n",
       "      <td>DR</td>\n",
       "      <td>Non-Perishables</td>\n",
       "      <td>average</td>\n",
       "      <td>4</td>\n",
       "    </tr>\n",
       "    <tr>\n",
       "      <th>2</th>\n",
       "      <td>17.50</td>\n",
       "      <td>Low Fat</td>\n",
       "      <td>0.016760</td>\n",
       "      <td>141.6180</td>\n",
       "      <td>Medium</td>\n",
       "      <td>Tier 1</td>\n",
       "      <td>Supermarket Type1</td>\n",
       "      <td>2097.2700</td>\n",
       "      <td>FD</td>\n",
       "      <td>Perishables</td>\n",
       "      <td>average</td>\n",
       "      <td>14</td>\n",
       "    </tr>\n",
       "    <tr>\n",
       "      <th>3</th>\n",
       "      <td>19.20</td>\n",
       "      <td>Regular</td>\n",
       "      <td>0.000000</td>\n",
       "      <td>182.0950</td>\n",
       "      <td>MEDIUM</td>\n",
       "      <td>Tier 3</td>\n",
       "      <td>Grocery Store</td>\n",
       "      <td>732.3800</td>\n",
       "      <td>FD</td>\n",
       "      <td>Perishables</td>\n",
       "      <td>low</td>\n",
       "      <td>15</td>\n",
       "    </tr>\n",
       "    <tr>\n",
       "      <th>4</th>\n",
       "      <td>8.93</td>\n",
       "      <td>Non Edible</td>\n",
       "      <td>0.000000</td>\n",
       "      <td>53.8614</td>\n",
       "      <td>High</td>\n",
       "      <td>Tier 3</td>\n",
       "      <td>Supermarket Type1</td>\n",
       "      <td>994.7052</td>\n",
       "      <td>NC</td>\n",
       "      <td>Non-Perishables</td>\n",
       "      <td>high</td>\n",
       "      <td>26</td>\n",
       "    </tr>\n",
       "  </tbody>\n",
       "</table>\n",
       "</div>"
      ],
      "text/plain": [
       "   Item_Weight Item_Fat_Content  Item_Visibility  Item_MRP Outlet_Size  \\\n",
       "0         9.30          Low Fat         0.016047  249.8092      Medium   \n",
       "1         5.92          Regular         0.019278   48.2692      Medium   \n",
       "2        17.50          Low Fat         0.016760  141.6180      Medium   \n",
       "3        19.20          Regular         0.000000  182.0950      MEDIUM   \n",
       "4         8.93       Non Edible         0.000000   53.8614        High   \n",
       "\n",
       "  Outlet_Location_Type        Outlet_Type  Item_Outlet_Sales Item_ID_Cat  \\\n",
       "0               Tier 1  Supermarket Type1          3735.1380          FD   \n",
       "1               Tier 3  Supermarket Type2           443.4228          DR   \n",
       "2               Tier 1  Supermarket Type1          2097.2700          FD   \n",
       "3               Tier 3      Grocery Store           732.3800          FD   \n",
       "4               Tier 3  Supermarket Type1           994.7052          NC   \n",
       "\n",
       "  Item_Type_Perish performing  Vintage  \n",
       "0      Perishables    average       14  \n",
       "1  Non-Perishables    average        4  \n",
       "2      Perishables    average       14  \n",
       "3      Perishables        low       15  \n",
       "4  Non-Perishables       high       26  "
      ]
     },
     "execution_count": 97,
     "metadata": {},
     "output_type": "execute_result"
    }
   ],
   "source": [
    "newdata.head()"
   ]
  },
  {
   "cell_type": "code",
   "execution_count": 99,
   "id": "80c78d5d",
   "metadata": {},
   "outputs": [],
   "source": [
    "# applying label encoding on the categorical columns (Outlet_Size,Outlet_Location_Type,Outlet_Type, performing)\n",
    "# applying one hot encoding on the categorical columns (Item_Fat_Content,Item_ID_Cat,Item_Type_Perish)"
   ]
  },
  {
   "cell_type": "code",
   "execution_count": 100,
   "id": "ebb0cbd3",
   "metadata": {},
   "outputs": [],
   "source": [
    "le = LabelEncoder()\n",
    "newdata['Outlet_Size'] = le.fit_transform(newdata['Outlet_Size'])\n",
    "newdata['Outlet_Location_Type'] = le.fit_transform(newdata['Outlet_Location_Type'])\n",
    "newdata['Outlet_Type'] = le.fit_transform(newdata['Outlet_Type'])\n",
    "newdata['performing'] = le.fit_transform(newdata['performing'])"
   ]
  },
  {
   "cell_type": "code",
   "execution_count": 101,
   "id": "6442dbf5",
   "metadata": {},
   "outputs": [
    {
     "data": {
      "text/html": [
       "<div>\n",
       "<style scoped>\n",
       "    .dataframe tbody tr th:only-of-type {\n",
       "        vertical-align: middle;\n",
       "    }\n",
       "\n",
       "    .dataframe tbody tr th {\n",
       "        vertical-align: top;\n",
       "    }\n",
       "\n",
       "    .dataframe thead th {\n",
       "        text-align: right;\n",
       "    }\n",
       "</style>\n",
       "<table border=\"1\" class=\"dataframe\">\n",
       "  <thead>\n",
       "    <tr style=\"text-align: right;\">\n",
       "      <th></th>\n",
       "      <th>Item_Weight</th>\n",
       "      <th>Item_Fat_Content</th>\n",
       "      <th>Item_Visibility</th>\n",
       "      <th>Item_MRP</th>\n",
       "      <th>Outlet_Size</th>\n",
       "      <th>Outlet_Location_Type</th>\n",
       "      <th>Outlet_Type</th>\n",
       "      <th>Item_Outlet_Sales</th>\n",
       "      <th>Item_ID_Cat</th>\n",
       "      <th>Item_Type_Perish</th>\n",
       "      <th>performing</th>\n",
       "      <th>Vintage</th>\n",
       "    </tr>\n",
       "  </thead>\n",
       "  <tbody>\n",
       "    <tr>\n",
       "      <th>0</th>\n",
       "      <td>9.30</td>\n",
       "      <td>Low Fat</td>\n",
       "      <td>0.016047</td>\n",
       "      <td>249.8092</td>\n",
       "      <td>2</td>\n",
       "      <td>0</td>\n",
       "      <td>1</td>\n",
       "      <td>3735.1380</td>\n",
       "      <td>FD</td>\n",
       "      <td>Perishables</td>\n",
       "      <td>0</td>\n",
       "      <td>14</td>\n",
       "    </tr>\n",
       "    <tr>\n",
       "      <th>1</th>\n",
       "      <td>5.92</td>\n",
       "      <td>Regular</td>\n",
       "      <td>0.019278</td>\n",
       "      <td>48.2692</td>\n",
       "      <td>2</td>\n",
       "      <td>2</td>\n",
       "      <td>2</td>\n",
       "      <td>443.4228</td>\n",
       "      <td>DR</td>\n",
       "      <td>Non-Perishables</td>\n",
       "      <td>0</td>\n",
       "      <td>4</td>\n",
       "    </tr>\n",
       "    <tr>\n",
       "      <th>2</th>\n",
       "      <td>17.50</td>\n",
       "      <td>Low Fat</td>\n",
       "      <td>0.016760</td>\n",
       "      <td>141.6180</td>\n",
       "      <td>2</td>\n",
       "      <td>0</td>\n",
       "      <td>1</td>\n",
       "      <td>2097.2700</td>\n",
       "      <td>FD</td>\n",
       "      <td>Perishables</td>\n",
       "      <td>0</td>\n",
       "      <td>14</td>\n",
       "    </tr>\n",
       "    <tr>\n",
       "      <th>3</th>\n",
       "      <td>19.20</td>\n",
       "      <td>Regular</td>\n",
       "      <td>0.000000</td>\n",
       "      <td>182.0950</td>\n",
       "      <td>1</td>\n",
       "      <td>2</td>\n",
       "      <td>0</td>\n",
       "      <td>732.3800</td>\n",
       "      <td>FD</td>\n",
       "      <td>Perishables</td>\n",
       "      <td>2</td>\n",
       "      <td>15</td>\n",
       "    </tr>\n",
       "    <tr>\n",
       "      <th>4</th>\n",
       "      <td>8.93</td>\n",
       "      <td>Non Edible</td>\n",
       "      <td>0.000000</td>\n",
       "      <td>53.8614</td>\n",
       "      <td>0</td>\n",
       "      <td>2</td>\n",
       "      <td>1</td>\n",
       "      <td>994.7052</td>\n",
       "      <td>NC</td>\n",
       "      <td>Non-Perishables</td>\n",
       "      <td>1</td>\n",
       "      <td>26</td>\n",
       "    </tr>\n",
       "  </tbody>\n",
       "</table>\n",
       "</div>"
      ],
      "text/plain": [
       "   Item_Weight Item_Fat_Content  Item_Visibility  Item_MRP  Outlet_Size  \\\n",
       "0         9.30          Low Fat         0.016047  249.8092            2   \n",
       "1         5.92          Regular         0.019278   48.2692            2   \n",
       "2        17.50          Low Fat         0.016760  141.6180            2   \n",
       "3        19.20          Regular         0.000000  182.0950            1   \n",
       "4         8.93       Non Edible         0.000000   53.8614            0   \n",
       "\n",
       "   Outlet_Location_Type  Outlet_Type  Item_Outlet_Sales Item_ID_Cat  \\\n",
       "0                     0            1          3735.1380          FD   \n",
       "1                     2            2           443.4228          DR   \n",
       "2                     0            1          2097.2700          FD   \n",
       "3                     2            0           732.3800          FD   \n",
       "4                     2            1           994.7052          NC   \n",
       "\n",
       "  Item_Type_Perish  performing  Vintage  \n",
       "0      Perishables           0       14  \n",
       "1  Non-Perishables           0        4  \n",
       "2      Perishables           0       14  \n",
       "3      Perishables           2       15  \n",
       "4  Non-Perishables           1       26  "
      ]
     },
     "execution_count": 101,
     "metadata": {},
     "output_type": "execute_result"
    }
   ],
   "source": [
    "newdata.head()"
   ]
  },
  {
   "cell_type": "code",
   "execution_count": 110,
   "id": "aad52dd8",
   "metadata": {},
   "outputs": [],
   "source": [
    "newdata = pd.get_dummies(newdata, drop_first = True)"
   ]
  },
  {
   "cell_type": "code",
   "execution_count": 111,
   "id": "9b8e6f5a",
   "metadata": {},
   "outputs": [
    {
     "data": {
      "text/html": [
       "<div>\n",
       "<style scoped>\n",
       "    .dataframe tbody tr th:only-of-type {\n",
       "        vertical-align: middle;\n",
       "    }\n",
       "\n",
       "    .dataframe tbody tr th {\n",
       "        vertical-align: top;\n",
       "    }\n",
       "\n",
       "    .dataframe thead th {\n",
       "        text-align: right;\n",
       "    }\n",
       "</style>\n",
       "<table border=\"1\" class=\"dataframe\">\n",
       "  <thead>\n",
       "    <tr style=\"text-align: right;\">\n",
       "      <th></th>\n",
       "      <th>Item_Weight</th>\n",
       "      <th>Item_Visibility</th>\n",
       "      <th>Item_MRP</th>\n",
       "      <th>Outlet_Size</th>\n",
       "      <th>Outlet_Location_Type</th>\n",
       "      <th>Outlet_Type</th>\n",
       "      <th>Item_Outlet_Sales</th>\n",
       "      <th>performing</th>\n",
       "      <th>Vintage</th>\n",
       "      <th>Item_Fat_Content_Non Edible</th>\n",
       "      <th>Item_Fat_Content_Regular</th>\n",
       "      <th>Item_ID_Cat_FD</th>\n",
       "      <th>Item_ID_Cat_NC</th>\n",
       "      <th>Item_Type_Perish_Perishables</th>\n",
       "    </tr>\n",
       "  </thead>\n",
       "  <tbody>\n",
       "    <tr>\n",
       "      <th>0</th>\n",
       "      <td>9.30</td>\n",
       "      <td>0.016047</td>\n",
       "      <td>249.8092</td>\n",
       "      <td>2</td>\n",
       "      <td>0</td>\n",
       "      <td>1</td>\n",
       "      <td>3735.1380</td>\n",
       "      <td>0</td>\n",
       "      <td>14</td>\n",
       "      <td>0</td>\n",
       "      <td>0</td>\n",
       "      <td>1</td>\n",
       "      <td>0</td>\n",
       "      <td>1</td>\n",
       "    </tr>\n",
       "    <tr>\n",
       "      <th>1</th>\n",
       "      <td>5.92</td>\n",
       "      <td>0.019278</td>\n",
       "      <td>48.2692</td>\n",
       "      <td>2</td>\n",
       "      <td>2</td>\n",
       "      <td>2</td>\n",
       "      <td>443.4228</td>\n",
       "      <td>0</td>\n",
       "      <td>4</td>\n",
       "      <td>0</td>\n",
       "      <td>1</td>\n",
       "      <td>0</td>\n",
       "      <td>0</td>\n",
       "      <td>0</td>\n",
       "    </tr>\n",
       "    <tr>\n",
       "      <th>2</th>\n",
       "      <td>17.50</td>\n",
       "      <td>0.016760</td>\n",
       "      <td>141.6180</td>\n",
       "      <td>2</td>\n",
       "      <td>0</td>\n",
       "      <td>1</td>\n",
       "      <td>2097.2700</td>\n",
       "      <td>0</td>\n",
       "      <td>14</td>\n",
       "      <td>0</td>\n",
       "      <td>0</td>\n",
       "      <td>1</td>\n",
       "      <td>0</td>\n",
       "      <td>1</td>\n",
       "    </tr>\n",
       "    <tr>\n",
       "      <th>3</th>\n",
       "      <td>19.20</td>\n",
       "      <td>0.000000</td>\n",
       "      <td>182.0950</td>\n",
       "      <td>1</td>\n",
       "      <td>2</td>\n",
       "      <td>0</td>\n",
       "      <td>732.3800</td>\n",
       "      <td>2</td>\n",
       "      <td>15</td>\n",
       "      <td>0</td>\n",
       "      <td>1</td>\n",
       "      <td>1</td>\n",
       "      <td>0</td>\n",
       "      <td>1</td>\n",
       "    </tr>\n",
       "    <tr>\n",
       "      <th>4</th>\n",
       "      <td>8.93</td>\n",
       "      <td>0.000000</td>\n",
       "      <td>53.8614</td>\n",
       "      <td>0</td>\n",
       "      <td>2</td>\n",
       "      <td>1</td>\n",
       "      <td>994.7052</td>\n",
       "      <td>1</td>\n",
       "      <td>26</td>\n",
       "      <td>1</td>\n",
       "      <td>0</td>\n",
       "      <td>0</td>\n",
       "      <td>1</td>\n",
       "      <td>0</td>\n",
       "    </tr>\n",
       "  </tbody>\n",
       "</table>\n",
       "</div>"
      ],
      "text/plain": [
       "   Item_Weight  Item_Visibility  Item_MRP  Outlet_Size  Outlet_Location_Type  \\\n",
       "0         9.30         0.016047  249.8092            2                     0   \n",
       "1         5.92         0.019278   48.2692            2                     2   \n",
       "2        17.50         0.016760  141.6180            2                     0   \n",
       "3        19.20         0.000000  182.0950            1                     2   \n",
       "4         8.93         0.000000   53.8614            0                     2   \n",
       "\n",
       "   Outlet_Type  Item_Outlet_Sales  performing  Vintage  \\\n",
       "0            1          3735.1380           0       14   \n",
       "1            2           443.4228           0        4   \n",
       "2            1          2097.2700           0       14   \n",
       "3            0           732.3800           2       15   \n",
       "4            1           994.7052           1       26   \n",
       "\n",
       "   Item_Fat_Content_Non Edible  Item_Fat_Content_Regular  Item_ID_Cat_FD  \\\n",
       "0                            0                         0               1   \n",
       "1                            0                         1               0   \n",
       "2                            0                         0               1   \n",
       "3                            0                         1               1   \n",
       "4                            1                         0               0   \n",
       "\n",
       "   Item_ID_Cat_NC  Item_Type_Perish_Perishables  \n",
       "0               0                             1  \n",
       "1               0                             0  \n",
       "2               0                             1  \n",
       "3               0                             1  \n",
       "4               1                             0  "
      ]
     },
     "execution_count": 111,
     "metadata": {},
     "output_type": "execute_result"
    }
   ],
   "source": [
    "newdata.head()"
   ]
  },
  {
   "cell_type": "code",
   "execution_count": 122,
   "id": "510e28e3",
   "metadata": {},
   "outputs": [],
   "source": [
    "# Splitting the data into train and test data"
   ]
  },
  {
   "cell_type": "code",
   "execution_count": 123,
   "id": "1a2d2949",
   "metadata": {},
   "outputs": [],
   "source": [
    "train_f = newdata[~(newdata['Item_Outlet_Sales'].isnull())]\n",
    "test_f = newdata[newdata['Item_Outlet_Sales'].isnull()]"
   ]
  },
  {
   "cell_type": "code",
   "execution_count": 124,
   "id": "5ed5ef21",
   "metadata": {},
   "outputs": [
    {
     "data": {
      "text/html": [
       "<div>\n",
       "<style scoped>\n",
       "    .dataframe tbody tr th:only-of-type {\n",
       "        vertical-align: middle;\n",
       "    }\n",
       "\n",
       "    .dataframe tbody tr th {\n",
       "        vertical-align: top;\n",
       "    }\n",
       "\n",
       "    .dataframe thead th {\n",
       "        text-align: right;\n",
       "    }\n",
       "</style>\n",
       "<table border=\"1\" class=\"dataframe\">\n",
       "  <thead>\n",
       "    <tr style=\"text-align: right;\">\n",
       "      <th></th>\n",
       "      <th>Item_Weight</th>\n",
       "      <th>Item_Visibility</th>\n",
       "      <th>Item_MRP</th>\n",
       "      <th>Outlet_Size</th>\n",
       "      <th>Outlet_Location_Type</th>\n",
       "      <th>Outlet_Type</th>\n",
       "      <th>Item_Outlet_Sales</th>\n",
       "      <th>performing</th>\n",
       "      <th>Vintage</th>\n",
       "      <th>Item_Fat_Content_Non Edible</th>\n",
       "      <th>Item_Fat_Content_Regular</th>\n",
       "      <th>Item_ID_Cat_FD</th>\n",
       "      <th>Item_ID_Cat_NC</th>\n",
       "      <th>Item_Type_Perish_Perishables</th>\n",
       "    </tr>\n",
       "  </thead>\n",
       "  <tbody>\n",
       "    <tr>\n",
       "      <th>0</th>\n",
       "      <td>9.30</td>\n",
       "      <td>0.016047</td>\n",
       "      <td>249.8092</td>\n",
       "      <td>2</td>\n",
       "      <td>0</td>\n",
       "      <td>1</td>\n",
       "      <td>3735.1380</td>\n",
       "      <td>0</td>\n",
       "      <td>14</td>\n",
       "      <td>0</td>\n",
       "      <td>0</td>\n",
       "      <td>1</td>\n",
       "      <td>0</td>\n",
       "      <td>1</td>\n",
       "    </tr>\n",
       "    <tr>\n",
       "      <th>1</th>\n",
       "      <td>5.92</td>\n",
       "      <td>0.019278</td>\n",
       "      <td>48.2692</td>\n",
       "      <td>2</td>\n",
       "      <td>2</td>\n",
       "      <td>2</td>\n",
       "      <td>443.4228</td>\n",
       "      <td>0</td>\n",
       "      <td>4</td>\n",
       "      <td>0</td>\n",
       "      <td>1</td>\n",
       "      <td>0</td>\n",
       "      <td>0</td>\n",
       "      <td>0</td>\n",
       "    </tr>\n",
       "    <tr>\n",
       "      <th>2</th>\n",
       "      <td>17.50</td>\n",
       "      <td>0.016760</td>\n",
       "      <td>141.6180</td>\n",
       "      <td>2</td>\n",
       "      <td>0</td>\n",
       "      <td>1</td>\n",
       "      <td>2097.2700</td>\n",
       "      <td>0</td>\n",
       "      <td>14</td>\n",
       "      <td>0</td>\n",
       "      <td>0</td>\n",
       "      <td>1</td>\n",
       "      <td>0</td>\n",
       "      <td>1</td>\n",
       "    </tr>\n",
       "    <tr>\n",
       "      <th>3</th>\n",
       "      <td>19.20</td>\n",
       "      <td>0.000000</td>\n",
       "      <td>182.0950</td>\n",
       "      <td>1</td>\n",
       "      <td>2</td>\n",
       "      <td>0</td>\n",
       "      <td>732.3800</td>\n",
       "      <td>2</td>\n",
       "      <td>15</td>\n",
       "      <td>0</td>\n",
       "      <td>1</td>\n",
       "      <td>1</td>\n",
       "      <td>0</td>\n",
       "      <td>1</td>\n",
       "    </tr>\n",
       "    <tr>\n",
       "      <th>4</th>\n",
       "      <td>8.93</td>\n",
       "      <td>0.000000</td>\n",
       "      <td>53.8614</td>\n",
       "      <td>0</td>\n",
       "      <td>2</td>\n",
       "      <td>1</td>\n",
       "      <td>994.7052</td>\n",
       "      <td>1</td>\n",
       "      <td>26</td>\n",
       "      <td>1</td>\n",
       "      <td>0</td>\n",
       "      <td>0</td>\n",
       "      <td>1</td>\n",
       "      <td>0</td>\n",
       "    </tr>\n",
       "  </tbody>\n",
       "</table>\n",
       "</div>"
      ],
      "text/plain": [
       "   Item_Weight  Item_Visibility  Item_MRP  Outlet_Size  Outlet_Location_Type  \\\n",
       "0         9.30         0.016047  249.8092            2                     0   \n",
       "1         5.92         0.019278   48.2692            2                     2   \n",
       "2        17.50         0.016760  141.6180            2                     0   \n",
       "3        19.20         0.000000  182.0950            1                     2   \n",
       "4         8.93         0.000000   53.8614            0                     2   \n",
       "\n",
       "   Outlet_Type  Item_Outlet_Sales  performing  Vintage  \\\n",
       "0            1          3735.1380           0       14   \n",
       "1            2           443.4228           0        4   \n",
       "2            1          2097.2700           0       14   \n",
       "3            0           732.3800           2       15   \n",
       "4            1           994.7052           1       26   \n",
       "\n",
       "   Item_Fat_Content_Non Edible  Item_Fat_Content_Regular  Item_ID_Cat_FD  \\\n",
       "0                            0                         0               1   \n",
       "1                            0                         1               0   \n",
       "2                            0                         0               1   \n",
       "3                            0                         1               1   \n",
       "4                            1                         0               0   \n",
       "\n",
       "   Item_ID_Cat_NC  Item_Type_Perish_Perishables  \n",
       "0               0                             1  \n",
       "1               0                             0  \n",
       "2               0                             1  \n",
       "3               0                             1  \n",
       "4               1                             0  "
      ]
     },
     "execution_count": 124,
     "metadata": {},
     "output_type": "execute_result"
    }
   ],
   "source": [
    "train_f.head()"
   ]
  },
  {
   "cell_type": "code",
   "execution_count": 125,
   "id": "0d16d409",
   "metadata": {},
   "outputs": [
    {
     "data": {
      "text/html": [
       "<div>\n",
       "<style scoped>\n",
       "    .dataframe tbody tr th:only-of-type {\n",
       "        vertical-align: middle;\n",
       "    }\n",
       "\n",
       "    .dataframe tbody tr th {\n",
       "        vertical-align: top;\n",
       "    }\n",
       "\n",
       "    .dataframe thead th {\n",
       "        text-align: right;\n",
       "    }\n",
       "</style>\n",
       "<table border=\"1\" class=\"dataframe\">\n",
       "  <thead>\n",
       "    <tr style=\"text-align: right;\">\n",
       "      <th></th>\n",
       "      <th>Item_Weight</th>\n",
       "      <th>Item_Visibility</th>\n",
       "      <th>Item_MRP</th>\n",
       "      <th>Outlet_Size</th>\n",
       "      <th>Outlet_Location_Type</th>\n",
       "      <th>Outlet_Type</th>\n",
       "      <th>Item_Outlet_Sales</th>\n",
       "      <th>performing</th>\n",
       "      <th>Vintage</th>\n",
       "      <th>Item_Fat_Content_Non Edible</th>\n",
       "      <th>Item_Fat_Content_Regular</th>\n",
       "      <th>Item_ID_Cat_FD</th>\n",
       "      <th>Item_ID_Cat_NC</th>\n",
       "      <th>Item_Type_Perish_Perishables</th>\n",
       "    </tr>\n",
       "  </thead>\n",
       "  <tbody>\n",
       "    <tr>\n",
       "      <th>0</th>\n",
       "      <td>20.750000</td>\n",
       "      <td>0.007565</td>\n",
       "      <td>107.8622</td>\n",
       "      <td>2</td>\n",
       "      <td>0</td>\n",
       "      <td>1</td>\n",
       "      <td>NaN</td>\n",
       "      <td>0</td>\n",
       "      <td>14</td>\n",
       "      <td>0</td>\n",
       "      <td>0</td>\n",
       "      <td>1</td>\n",
       "      <td>0</td>\n",
       "      <td>1</td>\n",
       "    </tr>\n",
       "    <tr>\n",
       "      <th>1</th>\n",
       "      <td>8.300000</td>\n",
       "      <td>0.038428</td>\n",
       "      <td>87.3198</td>\n",
       "      <td>1</td>\n",
       "      <td>1</td>\n",
       "      <td>1</td>\n",
       "      <td>NaN</td>\n",
       "      <td>0</td>\n",
       "      <td>6</td>\n",
       "      <td>0</td>\n",
       "      <td>1</td>\n",
       "      <td>1</td>\n",
       "      <td>0</td>\n",
       "      <td>1</td>\n",
       "    </tr>\n",
       "    <tr>\n",
       "      <th>2</th>\n",
       "      <td>14.600000</td>\n",
       "      <td>0.099575</td>\n",
       "      <td>241.7538</td>\n",
       "      <td>1</td>\n",
       "      <td>2</td>\n",
       "      <td>0</td>\n",
       "      <td>NaN</td>\n",
       "      <td>2</td>\n",
       "      <td>15</td>\n",
       "      <td>1</td>\n",
       "      <td>0</td>\n",
       "      <td>0</td>\n",
       "      <td>1</td>\n",
       "      <td>0</td>\n",
       "    </tr>\n",
       "    <tr>\n",
       "      <th>3</th>\n",
       "      <td>7.315000</td>\n",
       "      <td>0.015388</td>\n",
       "      <td>155.0340</td>\n",
       "      <td>1</td>\n",
       "      <td>1</td>\n",
       "      <td>1</td>\n",
       "      <td>NaN</td>\n",
       "      <td>0</td>\n",
       "      <td>6</td>\n",
       "      <td>0</td>\n",
       "      <td>0</td>\n",
       "      <td>1</td>\n",
       "      <td>0</td>\n",
       "      <td>1</td>\n",
       "    </tr>\n",
       "    <tr>\n",
       "      <th>4</th>\n",
       "      <td>12.792854</td>\n",
       "      <td>0.118599</td>\n",
       "      <td>234.2300</td>\n",
       "      <td>2</td>\n",
       "      <td>2</td>\n",
       "      <td>3</td>\n",
       "      <td>NaN</td>\n",
       "      <td>1</td>\n",
       "      <td>28</td>\n",
       "      <td>0</td>\n",
       "      <td>1</td>\n",
       "      <td>1</td>\n",
       "      <td>0</td>\n",
       "      <td>1</td>\n",
       "    </tr>\n",
       "  </tbody>\n",
       "</table>\n",
       "</div>"
      ],
      "text/plain": [
       "   Item_Weight  Item_Visibility  Item_MRP  Outlet_Size  Outlet_Location_Type  \\\n",
       "0    20.750000         0.007565  107.8622            2                     0   \n",
       "1     8.300000         0.038428   87.3198            1                     1   \n",
       "2    14.600000         0.099575  241.7538            1                     2   \n",
       "3     7.315000         0.015388  155.0340            1                     1   \n",
       "4    12.792854         0.118599  234.2300            2                     2   \n",
       "\n",
       "   Outlet_Type  Item_Outlet_Sales  performing  Vintage  \\\n",
       "0            1                NaN           0       14   \n",
       "1            1                NaN           0        6   \n",
       "2            0                NaN           2       15   \n",
       "3            1                NaN           0        6   \n",
       "4            3                NaN           1       28   \n",
       "\n",
       "   Item_Fat_Content_Non Edible  Item_Fat_Content_Regular  Item_ID_Cat_FD  \\\n",
       "0                            0                         0               1   \n",
       "1                            0                         1               1   \n",
       "2                            1                         0               0   \n",
       "3                            0                         0               1   \n",
       "4                            0                         1               1   \n",
       "\n",
       "   Item_ID_Cat_NC  Item_Type_Perish_Perishables  \n",
       "0               0                             1  \n",
       "1               0                             1  \n",
       "2               1                             0  \n",
       "3               0                             1  \n",
       "4               0                             1  "
      ]
     },
     "execution_count": 125,
     "metadata": {},
     "output_type": "execute_result"
    }
   ],
   "source": [
    "test_f.head()"
   ]
  },
  {
   "cell_type": "code",
   "execution_count": 126,
   "id": "5817439e",
   "metadata": {},
   "outputs": [],
   "source": [
    "del test_f['Item_Outlet_Sales']"
   ]
  },
  {
   "cell_type": "code",
   "execution_count": 127,
   "id": "117b7f11",
   "metadata": {},
   "outputs": [
    {
     "data": {
      "text/html": [
       "<div>\n",
       "<style scoped>\n",
       "    .dataframe tbody tr th:only-of-type {\n",
       "        vertical-align: middle;\n",
       "    }\n",
       "\n",
       "    .dataframe tbody tr th {\n",
       "        vertical-align: top;\n",
       "    }\n",
       "\n",
       "    .dataframe thead th {\n",
       "        text-align: right;\n",
       "    }\n",
       "</style>\n",
       "<table border=\"1\" class=\"dataframe\">\n",
       "  <thead>\n",
       "    <tr style=\"text-align: right;\">\n",
       "      <th></th>\n",
       "      <th>Item_Weight</th>\n",
       "      <th>Item_Visibility</th>\n",
       "      <th>Item_MRP</th>\n",
       "      <th>Outlet_Size</th>\n",
       "      <th>Outlet_Location_Type</th>\n",
       "      <th>Outlet_Type</th>\n",
       "      <th>performing</th>\n",
       "      <th>Vintage</th>\n",
       "      <th>Item_Fat_Content_Non Edible</th>\n",
       "      <th>Item_Fat_Content_Regular</th>\n",
       "      <th>Item_ID_Cat_FD</th>\n",
       "      <th>Item_ID_Cat_NC</th>\n",
       "      <th>Item_Type_Perish_Perishables</th>\n",
       "    </tr>\n",
       "  </thead>\n",
       "  <tbody>\n",
       "    <tr>\n",
       "      <th>0</th>\n",
       "      <td>20.750000</td>\n",
       "      <td>0.007565</td>\n",
       "      <td>107.8622</td>\n",
       "      <td>2</td>\n",
       "      <td>0</td>\n",
       "      <td>1</td>\n",
       "      <td>0</td>\n",
       "      <td>14</td>\n",
       "      <td>0</td>\n",
       "      <td>0</td>\n",
       "      <td>1</td>\n",
       "      <td>0</td>\n",
       "      <td>1</td>\n",
       "    </tr>\n",
       "    <tr>\n",
       "      <th>1</th>\n",
       "      <td>8.300000</td>\n",
       "      <td>0.038428</td>\n",
       "      <td>87.3198</td>\n",
       "      <td>1</td>\n",
       "      <td>1</td>\n",
       "      <td>1</td>\n",
       "      <td>0</td>\n",
       "      <td>6</td>\n",
       "      <td>0</td>\n",
       "      <td>1</td>\n",
       "      <td>1</td>\n",
       "      <td>0</td>\n",
       "      <td>1</td>\n",
       "    </tr>\n",
       "    <tr>\n",
       "      <th>2</th>\n",
       "      <td>14.600000</td>\n",
       "      <td>0.099575</td>\n",
       "      <td>241.7538</td>\n",
       "      <td>1</td>\n",
       "      <td>2</td>\n",
       "      <td>0</td>\n",
       "      <td>2</td>\n",
       "      <td>15</td>\n",
       "      <td>1</td>\n",
       "      <td>0</td>\n",
       "      <td>0</td>\n",
       "      <td>1</td>\n",
       "      <td>0</td>\n",
       "    </tr>\n",
       "    <tr>\n",
       "      <th>3</th>\n",
       "      <td>7.315000</td>\n",
       "      <td>0.015388</td>\n",
       "      <td>155.0340</td>\n",
       "      <td>1</td>\n",
       "      <td>1</td>\n",
       "      <td>1</td>\n",
       "      <td>0</td>\n",
       "      <td>6</td>\n",
       "      <td>0</td>\n",
       "      <td>0</td>\n",
       "      <td>1</td>\n",
       "      <td>0</td>\n",
       "      <td>1</td>\n",
       "    </tr>\n",
       "    <tr>\n",
       "      <th>4</th>\n",
       "      <td>12.792854</td>\n",
       "      <td>0.118599</td>\n",
       "      <td>234.2300</td>\n",
       "      <td>2</td>\n",
       "      <td>2</td>\n",
       "      <td>3</td>\n",
       "      <td>1</td>\n",
       "      <td>28</td>\n",
       "      <td>0</td>\n",
       "      <td>1</td>\n",
       "      <td>1</td>\n",
       "      <td>0</td>\n",
       "      <td>1</td>\n",
       "    </tr>\n",
       "  </tbody>\n",
       "</table>\n",
       "</div>"
      ],
      "text/plain": [
       "   Item_Weight  Item_Visibility  Item_MRP  Outlet_Size  Outlet_Location_Type  \\\n",
       "0    20.750000         0.007565  107.8622            2                     0   \n",
       "1     8.300000         0.038428   87.3198            1                     1   \n",
       "2    14.600000         0.099575  241.7538            1                     2   \n",
       "3     7.315000         0.015388  155.0340            1                     1   \n",
       "4    12.792854         0.118599  234.2300            2                     2   \n",
       "\n",
       "   Outlet_Type  performing  Vintage  Item_Fat_Content_Non Edible  \\\n",
       "0            1           0       14                            0   \n",
       "1            1           0        6                            0   \n",
       "2            0           2       15                            1   \n",
       "3            1           0        6                            0   \n",
       "4            3           1       28                            0   \n",
       "\n",
       "   Item_Fat_Content_Regular  Item_ID_Cat_FD  Item_ID_Cat_NC  \\\n",
       "0                         0               1               0   \n",
       "1                         1               1               0   \n",
       "2                         0               0               1   \n",
       "3                         0               1               0   \n",
       "4                         1               1               0   \n",
       "\n",
       "   Item_Type_Perish_Perishables  \n",
       "0                             1  \n",
       "1                             1  \n",
       "2                             0  \n",
       "3                             1  \n",
       "4                             1  "
      ]
     },
     "execution_count": 127,
     "metadata": {},
     "output_type": "execute_result"
    }
   ],
   "source": [
    "test_f.head()"
   ]
  },
  {
   "cell_type": "code",
   "execution_count": 129,
   "id": "eeb745d2",
   "metadata": {
    "scrolled": true
   },
   "outputs": [
    {
     "name": "stdout",
     "output_type": "stream",
     "text": [
      "(8523, 14) (5681, 13)\n"
     ]
    }
   ],
   "source": [
    "print(train_f.shape, test_f.shape)"
   ]
  },
  {
   "cell_type": "code",
   "execution_count": 134,
   "id": "c663f1c5",
   "metadata": {},
   "outputs": [],
   "source": [
    "# Train_test split of the train_f data\n",
    "X = train_f.drop(columns=['Item_Outlet_Sales'])\n",
    "X = sm.add_constant(X)\n",
    "y = train_f['Item_Outlet_Sales']\n",
    "X_train, X_test, y_train, y_test = train_test_split(X,y, test_size= 0.2, random_state= 10)"
   ]
  },
  {
   "cell_type": "code",
   "execution_count": 135,
   "id": "a1d3b8aa",
   "metadata": {},
   "outputs": [
    {
     "name": "stdout",
     "output_type": "stream",
     "text": [
      "(6818, 14) (1705, 14) (6818,) (1705,)\n"
     ]
    }
   ],
   "source": [
    "print(X_train.shape,X_test.shape,y_train.shape,y_test.shape)"
   ]
  },
  {
   "cell_type": "markdown",
   "id": "10b278a2",
   "metadata": {},
   "source": [
    "### First Model (OLS)"
   ]
  },
  {
   "cell_type": "code",
   "execution_count": 136,
   "id": "1008b989",
   "metadata": {},
   "outputs": [
    {
     "data": {
      "text/html": [
       "<table class=\"simpletable\">\n",
       "<caption>OLS Regression Results</caption>\n",
       "<tr>\n",
       "  <th>Dep. Variable:</th>    <td>Item_Outlet_Sales</td> <th>  R-squared:         </th> <td>   0.538</td> \n",
       "</tr>\n",
       "<tr>\n",
       "  <th>Model:</th>                   <td>OLS</td>        <th>  Adj. R-squared:    </th> <td>   0.537</td> \n",
       "</tr>\n",
       "<tr>\n",
       "  <th>Method:</th>             <td>Least Squares</td>   <th>  F-statistic:       </th> <td>   659.8</td> \n",
       "</tr>\n",
       "<tr>\n",
       "  <th>Date:</th>             <td>Thu, 01 Sep 2022</td>  <th>  Prob (F-statistic):</th>  <td>  0.00</td>  \n",
       "</tr>\n",
       "<tr>\n",
       "  <th>Time:</th>                 <td>17:31:22</td>      <th>  Log-Likelihood:    </th> <td> -57767.</td> \n",
       "</tr>\n",
       "<tr>\n",
       "  <th>No. Observations:</th>      <td>  6818</td>       <th>  AIC:               </th> <td>1.156e+05</td>\n",
       "</tr>\n",
       "<tr>\n",
       "  <th>Df Residuals:</th>          <td>  6805</td>       <th>  BIC:               </th> <td>1.156e+05</td>\n",
       "</tr>\n",
       "<tr>\n",
       "  <th>Df Model:</th>              <td>    12</td>       <th>                     </th>     <td> </td>    \n",
       "</tr>\n",
       "<tr>\n",
       "  <th>Covariance Type:</th>      <td>nonrobust</td>     <th>                     </th>     <td> </td>    \n",
       "</tr>\n",
       "</table>\n",
       "<table class=\"simpletable\">\n",
       "<tr>\n",
       "                <td></td>                  <th>coef</th>     <th>std err</th>      <th>t</th>      <th>P>|t|</th>  <th>[0.025</th>    <th>0.975]</th>  \n",
       "</tr>\n",
       "<tr>\n",
       "  <th>const</th>                        <td>-1133.3525</td> <td>   99.521</td> <td>  -11.388</td> <td> 0.000</td> <td>-1328.444</td> <td> -938.261</td>\n",
       "</tr>\n",
       "<tr>\n",
       "  <th>Item_Weight</th>                  <td>    0.5303</td> <td>    3.331</td> <td>    0.159</td> <td> 0.874</td> <td>   -6.000</td> <td>    7.061</td>\n",
       "</tr>\n",
       "<tr>\n",
       "  <th>Item_Visibility</th>              <td> -421.3390</td> <td>  284.939</td> <td>   -1.479</td> <td> 0.139</td> <td> -979.909</td> <td>  137.231</td>\n",
       "</tr>\n",
       "<tr>\n",
       "  <th>Item_MRP</th>                     <td>   15.4556</td> <td>    0.226</td> <td>   68.268</td> <td> 0.000</td> <td>   15.012</td> <td>   15.899</td>\n",
       "</tr>\n",
       "<tr>\n",
       "  <th>Outlet_Size</th>                  <td>  -56.3850</td> <td>   22.373</td> <td>   -2.520</td> <td> 0.012</td> <td> -100.242</td> <td>  -12.527</td>\n",
       "</tr>\n",
       "<tr>\n",
       "  <th>Outlet_Location_Type</th>         <td>  107.8604</td> <td>   40.528</td> <td>    2.661</td> <td> 0.008</td> <td>   28.413</td> <td>  187.307</td>\n",
       "</tr>\n",
       "<tr>\n",
       "  <th>Outlet_Type</th>                  <td>  542.1937</td> <td>   37.206</td> <td>   14.573</td> <td> 0.000</td> <td>  469.258</td> <td>  615.129</td>\n",
       "</tr>\n",
       "<tr>\n",
       "  <th>performing</th>                   <td> -977.9879</td> <td>   49.966</td> <td>  -19.573</td> <td> 0.000</td> <td>-1075.938</td> <td> -880.038</td>\n",
       "</tr>\n",
       "<tr>\n",
       "  <th>Vintage</th>                      <td>   59.8346</td> <td>    3.563</td> <td>   16.792</td> <td> 0.000</td> <td>   52.849</td> <td>   66.820</td>\n",
       "</tr>\n",
       "<tr>\n",
       "  <th>Item_Fat_Content_Non Edible</th>  <td>   -1.1726</td> <td>   28.495</td> <td>   -0.041</td> <td> 0.967</td> <td>  -57.032</td> <td>   54.687</td>\n",
       "</tr>\n",
       "<tr>\n",
       "  <th>Item_Fat_Content_Regular</th>     <td>   32.0953</td> <td>   32.500</td> <td>    0.988</td> <td> 0.323</td> <td>  -31.615</td> <td>   95.806</td>\n",
       "</tr>\n",
       "<tr>\n",
       "  <th>Item_ID_Cat_FD</th>               <td>   37.8543</td> <td>   53.306</td> <td>    0.710</td> <td> 0.478</td> <td>  -66.643</td> <td>  142.351</td>\n",
       "</tr>\n",
       "<tr>\n",
       "  <th>Item_ID_Cat_NC</th>               <td>   -1.1726</td> <td>   28.495</td> <td>   -0.041</td> <td> 0.967</td> <td>  -57.032</td> <td>   54.687</td>\n",
       "</tr>\n",
       "<tr>\n",
       "  <th>Item_Type_Perish_Perishables</th> <td>    9.2388</td> <td>   33.497</td> <td>    0.276</td> <td> 0.783</td> <td>  -56.426</td> <td>   74.904</td>\n",
       "</tr>\n",
       "</table>\n",
       "<table class=\"simpletable\">\n",
       "<tr>\n",
       "  <th>Omnibus:</th>       <td>787.904</td> <th>  Durbin-Watson:     </th> <td>   1.967</td>\n",
       "</tr>\n",
       "<tr>\n",
       "  <th>Prob(Omnibus):</th> <td> 0.000</td>  <th>  Jarque-Bera (JB):  </th> <td>1724.744</td>\n",
       "</tr>\n",
       "<tr>\n",
       "  <th>Skew:</th>          <td> 0.707</td>  <th>  Prob(JB):          </th> <td>    0.00</td>\n",
       "</tr>\n",
       "<tr>\n",
       "  <th>Kurtosis:</th>      <td> 5.018</td>  <th>  Cond. No.          </th> <td>1.70e+18</td>\n",
       "</tr>\n",
       "</table><br/><br/>Notes:<br/>[1] Standard Errors assume that the covariance matrix of the errors is correctly specified.<br/>[2] The smallest eigenvalue is 5.67e-29. This might indicate that there are<br/>strong multicollinearity problems or that the design matrix is singular."
      ],
      "text/plain": [
       "<class 'statsmodels.iolib.summary.Summary'>\n",
       "\"\"\"\n",
       "                            OLS Regression Results                            \n",
       "==============================================================================\n",
       "Dep. Variable:      Item_Outlet_Sales   R-squared:                       0.538\n",
       "Model:                            OLS   Adj. R-squared:                  0.537\n",
       "Method:                 Least Squares   F-statistic:                     659.8\n",
       "Date:                Thu, 01 Sep 2022   Prob (F-statistic):               0.00\n",
       "Time:                        17:31:22   Log-Likelihood:                -57767.\n",
       "No. Observations:                6818   AIC:                         1.156e+05\n",
       "Df Residuals:                    6805   BIC:                         1.156e+05\n",
       "Df Model:                          12                                         \n",
       "Covariance Type:            nonrobust                                         \n",
       "================================================================================================\n",
       "                                   coef    std err          t      P>|t|      [0.025      0.975]\n",
       "------------------------------------------------------------------------------------------------\n",
       "const                        -1133.3525     99.521    -11.388      0.000   -1328.444    -938.261\n",
       "Item_Weight                      0.5303      3.331      0.159      0.874      -6.000       7.061\n",
       "Item_Visibility               -421.3390    284.939     -1.479      0.139    -979.909     137.231\n",
       "Item_MRP                        15.4556      0.226     68.268      0.000      15.012      15.899\n",
       "Outlet_Size                    -56.3850     22.373     -2.520      0.012    -100.242     -12.527\n",
       "Outlet_Location_Type           107.8604     40.528      2.661      0.008      28.413     187.307\n",
       "Outlet_Type                    542.1937     37.206     14.573      0.000     469.258     615.129\n",
       "performing                    -977.9879     49.966    -19.573      0.000   -1075.938    -880.038\n",
       "Vintage                         59.8346      3.563     16.792      0.000      52.849      66.820\n",
       "Item_Fat_Content_Non Edible     -1.1726     28.495     -0.041      0.967     -57.032      54.687\n",
       "Item_Fat_Content_Regular        32.0953     32.500      0.988      0.323     -31.615      95.806\n",
       "Item_ID_Cat_FD                  37.8543     53.306      0.710      0.478     -66.643     142.351\n",
       "Item_ID_Cat_NC                  -1.1726     28.495     -0.041      0.967     -57.032      54.687\n",
       "Item_Type_Perish_Perishables     9.2388     33.497      0.276      0.783     -56.426      74.904\n",
       "==============================================================================\n",
       "Omnibus:                      787.904   Durbin-Watson:                   1.967\n",
       "Prob(Omnibus):                  0.000   Jarque-Bera (JB):             1724.744\n",
       "Skew:                           0.707   Prob(JB):                         0.00\n",
       "Kurtosis:                       5.018   Cond. No.                     1.70e+18\n",
       "==============================================================================\n",
       "\n",
       "Notes:\n",
       "[1] Standard Errors assume that the covariance matrix of the errors is correctly specified.\n",
       "[2] The smallest eigenvalue is 5.67e-29. This might indicate that there are\n",
       "strong multicollinearity problems or that the design matrix is singular.\n",
       "\"\"\""
      ]
     },
     "execution_count": 136,
     "metadata": {},
     "output_type": "execute_result"
    }
   ],
   "source": [
    "model1 =  sm.OLS(y_train,X_train).fit()\n",
    "model1.summary()"
   ]
  },
  {
   "cell_type": "code",
   "execution_count": 139,
   "id": "348b55b8",
   "metadata": {},
   "outputs": [
    {
     "data": {
      "text/plain": [
       "Text(0.5, 0, 'Skew: 0.71 Kurt: 2.02')"
      ]
     },
     "execution_count": 139,
     "metadata": {},
     "output_type": "execute_result"
    },
    {
     "data": {
      "image/png": "[encoded data removed]",
      "text/plain": [
       "<Figure size 720x432 with 1 Axes>"
      ]
     },
     "metadata": {
      "needs_background": "light"
     },
     "output_type": "display_data"
    }
   ],
   "source": [
    "# according to the assumption of linear regression the residuals have to be normally distributed\n",
    "\n",
    "sns.distplot(model1.resid)   # we see that the residual is not normally distributed\n",
    "plt.xlabel('Skew: %.2f Kurt: %.2f'%(model1.resid.skew(),model1.resid.kurt()))"
   ]
  },
  {
   "cell_type": "markdown",
   "id": "df426468",
   "metadata": {},
   "source": [
    "### Let's try some regularization methods"
   ]
  },
  {
   "cell_type": "code",
   "execution_count": 140,
   "id": "e6aa8538",
   "metadata": {},
   "outputs": [],
   "source": [
    "from sklearn.linear_model import Ridge,Lasso,ElasticNet\n",
    "from sklearn.model_selection import GridSearchCV"
   ]
  },
  {
   "cell_type": "code",
   "execution_count": 141,
   "id": "447f89e5",
   "metadata": {},
   "outputs": [],
   "source": [
    "# removing the constant variable and splitting into train test\n",
    "\n",
    "X.drop('const', axis = 1, inplace = True)"
   ]
  },
  {
   "cell_type": "code",
   "execution_count": 142,
   "id": "e31e6b4c",
   "metadata": {},
   "outputs": [],
   "source": [
    "X_train, X_test, y_train, y_test = train_test_split(X,y, test_size= 0.2, random_state= 10)"
   ]
  },
  {
   "cell_type": "code",
   "execution_count": 143,
   "id": "b72e6407",
   "metadata": {},
   "outputs": [],
   "source": [
    "param = {'alpha':[0.01,0.1,1,10],\n",
    "             'l1_ratio':[0,0.3,0.5,1]}"
   ]
  },
  {
   "cell_type": "code",
   "execution_count": 144,
   "id": "0b773879",
   "metadata": {},
   "outputs": [],
   "source": [
    "gscv = GridSearchCV(estimator=ElasticNet(),\n",
    "                   param_grid=param,\n",
    "                   scoring='r2',\n",
    "                   verbose=3,\n",
    "                   cv=3)"
   ]
  },
  {
   "cell_type": "code",
   "execution_count": 145,
   "id": "6bbc1024",
   "metadata": {
    "scrolled": true
   },
   "outputs": [
    {
     "name": "stdout",
     "output_type": "stream",
     "text": [
      "Fitting 3 folds for each of 16 candidates, totalling 48 fits\n",
      "[CV 1/3] END ............alpha=0.01, l1_ratio=0;, score=0.514 total time=   0.0s\n",
      "[CV 2/3] END ............alpha=0.01, l1_ratio=0;, score=0.562 total time=   0.0s\n",
      "[CV 3/3] END ............alpha=0.01, l1_ratio=0;, score=0.523 total time=   0.0s\n",
      "[CV 1/3] END ..........alpha=0.01, l1_ratio=0.3;, score=0.514 total time=   0.0s\n",
      "[CV 2/3] END ..........alpha=0.01, l1_ratio=0.3;, score=0.562 total time=   0.0s\n",
      "[CV 3/3] END ..........alpha=0.01, l1_ratio=0.3;, score=0.523 total time=   0.0s\n",
      "[CV 1/3] END ..........alpha=0.01, l1_ratio=0.5;, score=0.514 total time=   0.0s\n",
      "[CV 2/3] END ..........alpha=0.01, l1_ratio=0.5;, score=0.562 total time=   0.0s\n",
      "[CV 3/3] END ..........alpha=0.01, l1_ratio=0.5;, score=0.523 total time=   0.0s\n",
      "[CV 1/3] END ............alpha=0.01, l1_ratio=1;, score=0.514 total time=   0.0s\n",
      "[CV 2/3] END ............alpha=0.01, l1_ratio=1;, score=0.562 total time=   0.0s\n",
      "[CV 3/3] END ............alpha=0.01, l1_ratio=1;, score=0.523 total time=   0.0s\n",
      "[CV 1/3] END .............alpha=0.1, l1_ratio=0;, score=0.511 total time=   0.1s\n",
      "[CV 2/3] END .............alpha=0.1, l1_ratio=0;, score=0.553 total time=   0.0s\n",
      "[CV 3/3] END .............alpha=0.1, l1_ratio=0;, score=0.519 total time=   0.1s\n",
      "[CV 1/3] END ...........alpha=0.1, l1_ratio=0.3;, score=0.512 total time=   0.0s\n",
      "[CV 2/3] END ...........alpha=0.1, l1_ratio=0.3;, score=0.557 total time=   0.0s\n",
      "[CV 3/3] END ...........alpha=0.1, l1_ratio=0.3;, score=0.521 total time=   0.0s\n",
      "[CV 1/3] END ...........alpha=0.1, l1_ratio=0.5;, score=0.513 total time=   0.0s\n",
      "[CV 2/3] END ...........alpha=0.1, l1_ratio=0.5;, score=0.559 total time=   0.0s\n",
      "[CV 3/3] END ...........alpha=0.1, l1_ratio=0.5;, score=0.522 total time=   0.0s\n",
      "[CV 1/3] END .............alpha=0.1, l1_ratio=1;, score=0.514 total time=   0.0s\n",
      "[CV 2/3] END .............alpha=0.1, l1_ratio=1;, score=0.562 total time=   0.0s\n",
      "[CV 3/3] END .............alpha=0.1, l1_ratio=1;, score=0.523 total time=   0.0s\n",
      "[CV 1/3] END ...............alpha=1, l1_ratio=0;, score=0.443 total time=   0.0s\n",
      "[CV 2/3] END ...............alpha=1, l1_ratio=0;, score=0.464 total time=   0.0s\n",
      "[CV 3/3] END ...............alpha=1, l1_ratio=0;, score=0.440 total time=   0.0s\n",
      "[CV 1/3] END .............alpha=1, l1_ratio=0.3;, score=0.462 total time=   0.0s\n",
      "[CV 2/3] END .............alpha=1, l1_ratio=0.3;, score=0.486 total time=   0.0s\n",
      "[CV 3/3] END .............alpha=1, l1_ratio=0.3;, score=0.461 total time=   0.0s\n",
      "[CV 1/3] END .............alpha=1, l1_ratio=0.5;, score=0.477 total time=   0.0s\n",
      "[CV 2/3] END .............alpha=1, l1_ratio=0.5;, score=0.505 total time=   0.0s\n",
      "[CV 3/3] END .............alpha=1, l1_ratio=0.5;, score=0.479 total time=   0.0s\n",
      "[CV 1/3] END ...............alpha=1, l1_ratio=1;, score=0.514 total time=   0.0s\n",
      "[CV 2/3] END ...............alpha=1, l1_ratio=1;, score=0.562 total time=   0.0s\n",
      "[CV 3/3] END ...............alpha=1, l1_ratio=1;, score=0.523 total time=   0.0s\n",
      "[CV 1/3] END ..............alpha=10, l1_ratio=0;, score=0.340 total time=   0.0s\n",
      "[CV 2/3] END ..............alpha=10, l1_ratio=0;, score=0.353 total time=   0.0s\n",
      "[CV 3/3] END ..............alpha=10, l1_ratio=0;, score=0.327 total time=   0.0s\n",
      "[CV 1/3] END ............alpha=10, l1_ratio=0.3;, score=0.349 total time=   0.0s\n",
      "[CV 2/3] END ............alpha=10, l1_ratio=0.3;, score=0.363 total time=   0.0s\n",
      "[CV 3/3] END ............alpha=10, l1_ratio=0.3;, score=0.337 total time=   0.0s\n",
      "[CV 1/3] END ............alpha=10, l1_ratio=0.5;, score=0.360 total time=   0.0s\n",
      "[CV 2/3] END ............alpha=10, l1_ratio=0.5;, score=0.374 total time=   0.0s\n",
      "[CV 3/3] END ............alpha=10, l1_ratio=0.5;, score=0.349 total time=   0.0s\n",
      "[CV 1/3] END ..............alpha=10, l1_ratio=1;, score=0.514 total time=   0.0s\n",
      "[CV 2/3] END ..............alpha=10, l1_ratio=1;, score=0.562 total time=   0.0s\n",
      "[CV 3/3] END ..............alpha=10, l1_ratio=1;, score=0.523 total time=   0.0s\n"
     ]
    },
    {
     "data": {
      "text/html": [
       "<style>#sk-container-id-1 {color: black;background-color: white;}#sk-container-id-1 pre{padding: 0;}#sk-container-id-1 div.sk-toggleable {background-color: white;}#sk-container-id-1 label.sk-toggleable__label {cursor: pointer;display: block;width: 100%;margin-bottom: 0;padding: 0.3em;box-sizing: border-box;text-align: center;}#sk-container-id-1 label.sk-toggleable__label-arrow:before {content: \"▸\";float: left;margin-right: 0.25em;color: #696969;}#sk-container-id-1 label.sk-toggleable__label-arrow:hover:before {color: black;}#sk-container-id-1 div.sk-estimator:hover label.sk-toggleable__label-arrow:before {color: black;}#sk-container-id-1 div.sk-toggleable__content {max-height: 0;max-width: 0;overflow: hidden;text-align: left;background-color: #f0f8ff;}#sk-container-id-1 div.sk-toggleable__content pre {margin: 0.2em;color: black;border-radius: 0.25em;background-color: #f0f8ff;}#sk-container-id-1 input.sk-toggleable__control:checked~div.sk-toggleable__content {max-height: 200px;max-width: 100%;overflow: auto;}#sk-container-id-1 input.sk-toggleable__control:checked~label.sk-toggleable__label-arrow:before {content: \"▾\";}#sk-container-id-1 div.sk-estimator input.sk-toggleable__control:checked~label.sk-toggleable__label {background-color: #d4ebff;}#sk-container-id-1 div.sk-label input.sk-toggleable__control:checked~label.sk-toggleable__label {background-color: #d4ebff;}#sk-container-id-1 input.sk-hidden--visually {border: 0;clip: rect(1px 1px 1px 1px);clip: rect(1px, 1px, 1px, 1px);height: 1px;margin: -1px;overflow: hidden;padding: 0;position: absolute;width: 1px;}#sk-container-id-1 div.sk-estimator {font-family: monospace;background-color: #f0f8ff;border: 1px dotted black;border-radius: 0.25em;box-sizing: border-box;margin-bottom: 0.5em;}#sk-container-id-1 div.sk-estimator:hover {background-color: #d4ebff;}#sk-container-id-1 div.sk-parallel-item::after {content: \"\";width: 100%;border-bottom: 1px solid gray;flex-grow: 1;}#sk-container-id-1 div.sk-label:hover label.sk-toggleable__label {background-color: #d4ebff;}#sk-container-id-1 div.sk-serial::before {content: \"\";position: absolute;border-left: 1px solid gray;box-sizing: border-box;top: 0;bottom: 0;left: 50%;z-index: 0;}#sk-container-id-1 div.sk-serial {display: flex;flex-direction: column;align-items: center;background-color: white;padding-right: 0.2em;padding-left: 0.2em;position: relative;}#sk-container-id-1 div.sk-item {position: relative;z-index: 1;}#sk-container-id-1 div.sk-parallel {display: flex;align-items: stretch;justify-content: center;background-color: white;position: relative;}#sk-container-id-1 div.sk-item::before, #sk-container-id-1 div.sk-parallel-item::before {content: \"\";position: absolute;border-left: 1px solid gray;box-sizing: border-box;top: 0;bottom: 0;left: 50%;z-index: -1;}#sk-container-id-1 div.sk-parallel-item {display: flex;flex-direction: column;z-index: 1;position: relative;background-color: white;}#sk-container-id-1 div.sk-parallel-item:first-child::after {align-self: flex-end;width: 50%;}#sk-container-id-1 div.sk-parallel-item:last-child::after {align-self: flex-start;width: 50%;}#sk-container-id-1 div.sk-parallel-item:only-child::after {width: 0;}#sk-container-id-1 div.sk-dashed-wrapped {border: 1px dashed gray;margin: 0 0.4em 0.5em 0.4em;box-sizing: border-box;padding-bottom: 0.4em;background-color: white;}#sk-container-id-1 div.sk-label label {font-family: monospace;font-weight: bold;display: inline-block;line-height: 1.2em;}#sk-container-id-1 div.sk-label-container {text-align: center;}#sk-container-id-1 div.sk-container {/* jupyter's `normalize.less` sets `[hidden] { display: none; }` but bootstrap.min.css set `[hidden] { display: none !important; }` so we also need the `!important` here to be able to override the default hidden behavior on the sphinx rendered scikit-learn.org. See: https://github.com/scikit-learn/scikit-learn/issues/21755 */display: inline-block !important;position: relative;}#sk-container-id-1 div.sk-text-repr-fallback {display: none;}</style><div id=\"sk-container-id-1\" class=\"sk-top-container\"><div class=\"sk-text-repr-fallback\"><pre>GridSearchCV(cv=3, estimator=ElasticNet(),\n",
       "             param_grid={&#x27;alpha&#x27;: [0.01, 0.1, 1, 10],\n",
       "                         &#x27;l1_ratio&#x27;: [0, 0.3, 0.5, 1]},\n",
       "             scoring=&#x27;r2&#x27;, verbose=3)</pre><b>In a Jupyter environment, please rerun this cell to show the HTML representation or trust the notebook. <br />On GitHub, the HTML representation is unable to render, please try loading this page with nbviewer.org.</b></div><div class=\"sk-container\" hidden><div class=\"sk-item sk-dashed-wrapped\"><div class=\"sk-label-container\"><div class=\"sk-label sk-toggleable\"><input class=\"sk-toggleable__control sk-hidden--visually\" id=\"sk-estimator-id-1\" type=\"checkbox\" ><label for=\"sk-estimator-id-1\" class=\"sk-toggleable__label sk-toggleable__label-arrow\">GridSearchCV</label><div class=\"sk-toggleable__content\"><pre>GridSearchCV(cv=3, estimator=ElasticNet(),\n",
       "             param_grid={&#x27;alpha&#x27;: [0.01, 0.1, 1, 10],\n",
       "                         &#x27;l1_ratio&#x27;: [0, 0.3, 0.5, 1]},\n",
       "             scoring=&#x27;r2&#x27;, verbose=3)</pre></div></div></div><div class=\"sk-parallel\"><div class=\"sk-parallel-item\"><div class=\"sk-item\"><div class=\"sk-label-container\"><div class=\"sk-label sk-toggleable\"><input class=\"sk-toggleable__control sk-hidden--visually\" id=\"sk-estimator-id-2\" type=\"checkbox\" ><label for=\"sk-estimator-id-2\" class=\"sk-toggleable__label sk-toggleable__label-arrow\">estimator: ElasticNet</label><div class=\"sk-toggleable__content\"><pre>ElasticNet()</pre></div></div></div><div class=\"sk-serial\"><div class=\"sk-item\"><div class=\"sk-estimator sk-toggleable\"><input class=\"sk-toggleable__control sk-hidden--visually\" id=\"sk-estimator-id-3\" type=\"checkbox\" ><label for=\"sk-estimator-id-3\" class=\"sk-toggleable__label sk-toggleable__label-arrow\">ElasticNet</label><div class=\"sk-toggleable__content\"><pre>ElasticNet()</pre></div></div></div></div></div></div></div></div></div></div>"
      ],
      "text/plain": [
       "GridSearchCV(cv=3, estimator=ElasticNet(),\n",
       "             param_grid={'alpha': [0.01, 0.1, 1, 10],\n",
       "                         'l1_ratio': [0, 0.3, 0.5, 1]},\n",
       "             scoring='r2', verbose=3)"
      ]
     },
     "execution_count": 145,
     "metadata": {},
     "output_type": "execute_result"
    }
   ],
   "source": [
    "gscv.fit(X_train, y_train)"
   ]
  },
  {
   "cell_type": "code",
   "execution_count": 146,
   "id": "c83e8848",
   "metadata": {},
   "outputs": [
    {
     "data": {
      "text/plain": [
       "0.5331722072284067"
      ]
     },
     "execution_count": 146,
     "metadata": {},
     "output_type": "execute_result"
    }
   ],
   "source": [
    "gscv.best_score_"
   ]
  },
  {
   "cell_type": "markdown",
   "id": "630fd890",
   "metadata": {},
   "source": [
    "#### Let us try Models with other algorithms"
   ]
  },
  {
   "cell_type": "code",
   "execution_count": 148,
   "id": "ba76177c",
   "metadata": {},
   "outputs": [],
   "source": [
    "from sklearn.ensemble import AdaBoostRegressor,BaggingRegressor, GradientBoostingRegressor,RandomForestRegressor,StackingRegressor\n",
    "from sklearn.tree import DecisionTreeRegressor\n",
    "from sklearn.neighbors import KNeighborsRegressor\n",
    "from catboost import CatBoostRegressor\n",
    "from xgboost import XGBRegressor\n",
    "from lightgbm import LGBMRegressor\n",
    "from sklearn.metrics import r2_score,mean_squared_error"
   ]
  },
  {
   "cell_type": "markdown",
   "id": "e5eccbdf",
   "metadata": {},
   "source": [
    "### AdaBoost Model"
   ]
  },
  {
   "cell_type": "code",
   "execution_count": 149,
   "id": "11e31b3e",
   "metadata": {},
   "outputs": [],
   "source": [
    "# defining a user defined function to get the R2, AdjR2, MSE and RMSE"
   ]
  },
  {
   "cell_type": "code",
   "execution_count": 151,
   "id": "85fc570c",
   "metadata": {},
   "outputs": [],
   "source": [
    "def model_results(model,x_train,y_train,x_test,y_test):\n",
    "    print(str(model))\n",
    "    n = x_train.shape[0]\n",
    "    p = x_train.shape[1]\n",
    "    model.fit(x_train,y_train)\n",
    "    y_pred = model.predict(x_test)\n",
    "    r2 = r2_score(y_test,y_pred)\n",
    "    adj_r2 = 1-(1-r2)*(n-1)/(n-p-1)\n",
    "    print('R2 :\\t',r2)\n",
    "    print('Adj R2:\\t',adj_r2)\n",
    "    print('MSE:\\t',mean_squared_error(y_test,y_pred))\n",
    "    print('RMSE:\\t',(mean_squared_error(y_test,y_pred))**0.5,'\\n')"
   ]
  },
  {
   "cell_type": "code",
   "execution_count": 185,
   "id": "d43a3781",
   "metadata": {
    "scrolled": true
   },
   "outputs": [
    {
     "name": "stdout",
     "output_type": "stream",
     "text": [
      "AdaBoostRegressor(n_estimators=100)\n",
      "R2 :\t 0.5054945591311364\n",
      "Adj R2:\t 0.504549736860223\n",
      "MSE:\t 1467895.7851239752\n",
      "RMSE:\t 1211.5674909488018 \n",
      "\n"
     ]
    }
   ],
   "source": [
    "model_results(AdaBoostRegressor(n_estimators=100),X_train,y_train,X_test,y_test)"
   ]
  },
  {
   "cell_type": "code",
   "execution_count": 187,
   "id": "da311fe7",
   "metadata": {},
   "outputs": [
    {
     "data": {
      "text/plain": [
       "{'n_estimators': 200}"
      ]
     },
     "execution_count": 187,
     "metadata": {},
     "output_type": "execute_result"
    }
   ],
   "source": [
    "# Lets tune the model a little using gridsearchCV\n",
    "\n",
    "param = {'n_estimators': [200,250,300,350,400,450]}\n",
    "\n",
    "gscv2 = GridSearchCV(estimator= AdaBoostRegressor(),\n",
    "                    param_grid = param, \n",
    "                    scoring='r2',\n",
    "                     n_jobs= -1,\n",
    "                    cv = 3)\n",
    "\n",
    "gscv2.fit(X_train,y_train)\n",
    "gscv2.best_params_"
   ]
  },
  {
   "cell_type": "code",
   "execution_count": 188,
   "id": "21428047",
   "metadata": {
    "scrolled": true
   },
   "outputs": [
    {
     "name": "stdout",
     "output_type": "stream",
     "text": [
      "AdaBoostRegressor(n_estimators=200)\n",
      "R2 :\t 0.5474091728166427\n",
      "Adj R2:\t 0.5465444343167334\n",
      "MSE:\t 1343475.9513281116\n",
      "RMSE:\t 1159.0841001964056 \n",
      "\n"
     ]
    }
   ],
   "source": [
    "# using the best parameter to build the AdaBoost model\n",
    "\n",
    "model_results(AdaBoostRegressor(n_estimators=200),X_train,y_train,X_test,y_test)"
   ]
  },
  {
   "cell_type": "markdown",
   "id": "62d989ff",
   "metadata": {},
   "source": [
    "### K Nearest Neighbors Algorithm"
   ]
  },
  {
   "cell_type": "code",
   "execution_count": 189,
   "id": "e1bd8df3",
   "metadata": {},
   "outputs": [
    {
     "name": "stdout",
     "output_type": "stream",
     "text": [
      "KNeighborsRegressor(n_neighbors=7)\n",
      "R2 :\t 0.5260271610545386\n",
      "Adj R2:\t 0.5251215692105804\n",
      "MSE:\t 1406946.567319548\n",
      "RMSE:\t 1186.1477847720107 \n",
      "\n"
     ]
    }
   ],
   "source": [
    "model_results(KNeighborsRegressor(n_neighbors=7), X_train,y_train,X_test,y_test)"
   ]
  },
  {
   "cell_type": "code",
   "execution_count": 190,
   "id": "815d3beb",
   "metadata": {},
   "outputs": [
    {
     "data": {
      "text/plain": [
       "{'n_neighbors': 8}"
      ]
     },
     "execution_count": 190,
     "metadata": {},
     "output_type": "execute_result"
    }
   ],
   "source": [
    "# Lets tune the model a little using gridsearchCV\n",
    "\n",
    "param = {'n_neighbors': [5,6,8,9,10]}\n",
    "\n",
    "gscv3 = GridSearchCV(estimator= KNeighborsRegressor(),\n",
    "                    param_grid = param, \n",
    "                    scoring='r2',\n",
    "                     n_jobs= -1,\n",
    "                    cv = 3)\n",
    "\n",
    "gscv3.fit(X_train,y_train)\n",
    "gscv3.best_params_"
   ]
  },
  {
   "cell_type": "code",
   "execution_count": 191,
   "id": "60858656",
   "metadata": {},
   "outputs": [
    {
     "name": "stdout",
     "output_type": "stream",
     "text": [
      "KNeighborsRegressor(n_neighbors=8)\n",
      "R2 :\t 0.5306436156454877\n",
      "Adj R2:\t 0.5297468441880202\n",
      "MSE:\t 1393243.0290442894\n",
      "RMSE:\t 1180.357161644004 \n",
      "\n"
     ]
    }
   ],
   "source": [
    "# using the best parameter to build the KNeighborRegressor model\n",
    "\n",
    "model_results(KNeighborsRegressor(**gscv3.best_params_),X_train,y_train,X_test,y_test)"
   ]
  },
  {
   "cell_type": "markdown",
   "id": "b9e2f16e",
   "metadata": {},
   "source": [
    "### Gradient Boosting Algorithm"
   ]
  },
  {
   "cell_type": "code",
   "execution_count": 198,
   "id": "7a43912c",
   "metadata": {},
   "outputs": [
    {
     "name": "stdout",
     "output_type": "stream",
     "text": [
      "GradientBoostingRegressor(max_depth=5)\n",
      "R2 :\t 0.5835648707200656\n",
      "Adj R2:\t 0.5827692127717059\n",
      "MSE:\t 1236150.9510866595\n",
      "RMSE:\t 1111.8232553273292 \n",
      "\n"
     ]
    }
   ],
   "source": [
    "model_results(GradientBoostingRegressor(n_estimators=100,max_depth=5), X_train,y_train,X_test,y_test)"
   ]
  },
  {
   "cell_type": "code",
   "execution_count": 199,
   "id": "bea58f55",
   "metadata": {},
   "outputs": [
    {
     "data": {
      "text/plain": [
       "{'max_depth': 4, 'n_estimators': 200}"
      ]
     },
     "execution_count": 199,
     "metadata": {},
     "output_type": "execute_result"
    }
   ],
   "source": [
    "# Lets tune the model a little using gridsearchCV\n",
    "\n",
    "param = {'n_estimators': [200,250,300,350,400],'max_depth':[4,6,7,8]}\n",
    "\n",
    "gscv4 = GridSearchCV(estimator= GradientBoostingRegressor(),\n",
    "                    param_grid = param, \n",
    "                    scoring='r2',\n",
    "                     n_jobs= -1,\n",
    "                    cv = 3)\n",
    "\n",
    "gscv4.fit(X_train,y_train)\n",
    "gscv4.best_params_"
   ]
  },
  {
   "cell_type": "code",
   "execution_count": 200,
   "id": "9663e5c0",
   "metadata": {},
   "outputs": [
    {
     "name": "stdout",
     "output_type": "stream",
     "text": [
      "GradientBoostingRegressor(max_depth=4, n_estimators=200)\n",
      "R2 :\t 0.589075103420355\n",
      "Adj R2:\t 0.5882899735474074\n",
      "MSE:\t 1219794.3113263457\n",
      "RMSE:\t 1104.4429869062258 \n",
      "\n"
     ]
    }
   ],
   "source": [
    "# using the best parameter to build the GradientBoostingRegressor model\n",
    "\n",
    "model_results(GradientBoostingRegressor(**gscv4.best_params_),X_train,y_train,X_test,y_test)"
   ]
  },
  {
   "cell_type": "markdown",
   "id": "083bae0f",
   "metadata": {},
   "source": [
    "### Random Forest Algorithm"
   ]
  },
  {
   "cell_type": "code",
   "execution_count": 201,
   "id": "0b588644",
   "metadata": {},
   "outputs": [
    {
     "name": "stdout",
     "output_type": "stream",
     "text": [
      "RandomForestRegressor(max_depth=5, max_leaf_nodes=6)\n",
      "R2 :\t 0.5565170968366555\n",
      "Adj R2:\t 0.5556697603079777\n",
      "MSE:\t 1316439.8822067776\n",
      "RMSE:\t 1147.3621408285953 \n",
      "\n"
     ]
    }
   ],
   "source": [
    "model_results(RandomForestRegressor(n_estimators=100, max_depth= 5,max_leaf_nodes=6), X_train,y_train,X_test,y_test)"
   ]
  },
  {
   "cell_type": "code",
   "execution_count": 202,
   "id": "24a81ba3",
   "metadata": {},
   "outputs": [
    {
     "data": {
      "text/plain": [
       "{'max_depth': 4, 'max_leaf_nodes': 8, 'n_estimators': 200}"
      ]
     },
     "execution_count": 202,
     "metadata": {},
     "output_type": "execute_result"
    }
   ],
   "source": [
    "# Lets tune the model a little using gridsearchCV\n",
    "\n",
    "param = {'n_estimators': [200,250,300,350,400],'max_depth':[4,6,7,8], 'max_leaf_nodes':[4,5,7,8]}\n",
    "\n",
    "gscv5 = GridSearchCV(estimator= RandomForestRegressor(),\n",
    "                    param_grid = param, \n",
    "                    scoring='r2',\n",
    "                     n_jobs= -1,\n",
    "                    cv = 3)\n",
    "\n",
    "gscv5.fit(X_train,y_train)\n",
    "gscv5.best_params_"
   ]
  },
  {
   "cell_type": "code",
   "execution_count": 204,
   "id": "b9412ea6",
   "metadata": {},
   "outputs": [
    {
     "name": "stdout",
     "output_type": "stream",
     "text": [
      "RandomForestRegressor(max_depth=4, max_leaf_nodes=8, n_estimators=200)\n",
      "R2 :\t 0.5826231153479335\n",
      "Adj R2:\t 0.5818256580433367\n",
      "MSE:\t 1238946.4688446468\n",
      "RMSE:\t 1113.079722591624 \n",
      "\n"
     ]
    }
   ],
   "source": [
    "# using the best parameter to build the RandomForestRegressor model\n",
    "\n",
    "model_results(RandomForestRegressor(**gscv5.best_params_),X_train,y_train,X_test,y_test)"
   ]
  },
  {
   "cell_type": "markdown",
   "id": "060452ba",
   "metadata": {},
   "source": [
    "### Decision Tree Algorithm"
   ]
  },
  {
   "cell_type": "code",
   "execution_count": 205,
   "id": "65a3343d",
   "metadata": {},
   "outputs": [
    {
     "name": "stdout",
     "output_type": "stream",
     "text": [
      "DecisionTreeRegressor(max_depth=5, max_leaf_nodes=6)\n",
      "R2 :\t 0.5222355048141232\n",
      "Adj R2:\t 0.5213226684770543\n",
      "MSE:\t 1418201.7644396562\n",
      "RMSE:\t 1190.8827668749163 \n",
      "\n"
     ]
    }
   ],
   "source": [
    "model_results(DecisionTreeRegressor(max_depth= 5,max_leaf_nodes=6), X_train,y_train,X_test,y_test)"
   ]
  },
  {
   "cell_type": "code",
   "execution_count": 206,
   "id": "9d546066",
   "metadata": {},
   "outputs": [
    {
     "data": {
      "text/plain": [
       "{'max_depth': 6, 'max_leaf_nodes': 10}"
      ]
     },
     "execution_count": 206,
     "metadata": {},
     "output_type": "execute_result"
    }
   ],
   "source": [
    "# Lets tune the model a little using gridsearchCV\n",
    "\n",
    "param = {'max_depth':[4,6,7,8,9,10], 'max_leaf_nodes':[4,5,7,8,9,10]}\n",
    "\n",
    "gscv6 = GridSearchCV(estimator= DecisionTreeRegressor(),\n",
    "                    param_grid = param, \n",
    "                    scoring='r2',\n",
    "                     n_jobs= -1,\n",
    "                    cv = 3)\n",
    "\n",
    "gscv6.fit(X_train,y_train)\n",
    "gscv6.best_params_"
   ]
  },
  {
   "cell_type": "code",
   "execution_count": 207,
   "id": "d0b75852",
   "metadata": {},
   "outputs": [
    {
     "name": "stdout",
     "output_type": "stream",
     "text": [
      "DecisionTreeRegressor(max_depth=6, max_leaf_nodes=10)\n",
      "R2 :\t 0.5847575919210412\n",
      "Adj R2:\t 0.5839642128344705\n",
      "MSE:\t 1232610.4634012985\n",
      "RMSE:\t 1110.2299146579048 \n",
      "\n"
     ]
    }
   ],
   "source": [
    "# using the best parameter to build the DecisionTreeRegressor model\n",
    "\n",
    "model_results(DecisionTreeRegressor(**gscv6.best_params_),X_train,y_train,X_test,y_test)"
   ]
  },
  {
   "cell_type": "markdown",
   "id": "2dc73dfa",
   "metadata": {},
   "source": [
    "### CatBoost Algorithm"
   ]
  },
  {
   "cell_type": "code",
   "execution_count": 229,
   "id": "f26de6bf",
   "metadata": {},
   "outputs": [
    {
     "name": "stdout",
     "output_type": "stream",
     "text": [
      "<catboost.core.CatBoostRegressor object at 0x000001C36EC08760>\n",
      "0:\tlearn: 1611.7970088\ttotal: 6.77ms\tremaining: 670ms\n",
      "1:\tlearn: 1536.0290793\ttotal: 13.1ms\tremaining: 644ms\n",
      "2:\tlearn: 1467.8669564\ttotal: 19ms\tremaining: 613ms\n",
      "3:\tlearn: 1408.9269887\ttotal: 23.9ms\tremaining: 573ms\n",
      "4:\tlearn: 1358.0727156\ttotal: 29.3ms\tremaining: 557ms\n",
      "5:\tlearn: 1313.7002592\ttotal: 34.8ms\tremaining: 545ms\n",
      "6:\tlearn: 1276.7805320\ttotal: 40.2ms\tremaining: 535ms\n",
      "7:\tlearn: 1243.5235056\ttotal: 45.3ms\tremaining: 521ms\n",
      "8:\tlearn: 1218.3609627\ttotal: 49.5ms\tremaining: 500ms\n",
      "9:\tlearn: 1193.9867653\ttotal: 54.7ms\tremaining: 493ms\n",
      "10:\tlearn: 1174.8935305\ttotal: 59.9ms\tremaining: 485ms\n",
      "11:\tlearn: 1157.7210274\ttotal: 65.1ms\tremaining: 477ms\n",
      "12:\tlearn: 1143.5299615\ttotal: 69.9ms\tremaining: 468ms\n",
      "13:\tlearn: 1132.6172851\ttotal: 75.9ms\tremaining: 466ms\n",
      "14:\tlearn: 1122.3155494\ttotal: 80.9ms\tremaining: 458ms\n",
      "15:\tlearn: 1113.8953167\ttotal: 86.1ms\tremaining: 452ms\n",
      "16:\tlearn: 1107.5866024\ttotal: 91.3ms\tremaining: 446ms\n",
      "17:\tlearn: 1101.7482863\ttotal: 96.3ms\tremaining: 439ms\n",
      "18:\tlearn: 1096.6832502\ttotal: 102ms\tremaining: 434ms\n",
      "19:\tlearn: 1092.1038030\ttotal: 107ms\tremaining: 428ms\n",
      "20:\tlearn: 1089.3813357\ttotal: 110ms\tremaining: 415ms\n",
      "21:\tlearn: 1087.3194259\ttotal: 115ms\tremaining: 406ms\n",
      "22:\tlearn: 1084.8745525\ttotal: 120ms\tremaining: 401ms\n",
      "23:\tlearn: 1082.5193068\ttotal: 125ms\tremaining: 395ms\n",
      "24:\tlearn: 1080.8859319\ttotal: 131ms\tremaining: 392ms\n",
      "25:\tlearn: 1078.7703335\ttotal: 136ms\tremaining: 387ms\n",
      "26:\tlearn: 1076.9248754\ttotal: 141ms\tremaining: 382ms\n",
      "27:\tlearn: 1075.5753499\ttotal: 146ms\tremaining: 377ms\n",
      "28:\tlearn: 1074.1281553\ttotal: 152ms\tremaining: 372ms\n",
      "29:\tlearn: 1072.8333774\ttotal: 157ms\tremaining: 367ms\n",
      "30:\tlearn: 1071.4739052\ttotal: 163ms\tremaining: 363ms\n",
      "31:\tlearn: 1070.1490951\ttotal: 168ms\tremaining: 358ms\n",
      "32:\tlearn: 1068.9295036\ttotal: 174ms\tremaining: 352ms\n",
      "33:\tlearn: 1068.1838574\ttotal: 179ms\tremaining: 348ms\n",
      "34:\tlearn: 1067.4108592\ttotal: 184ms\tremaining: 342ms\n",
      "35:\tlearn: 1066.9662762\ttotal: 189ms\tremaining: 337ms\n",
      "36:\tlearn: 1066.1797657\ttotal: 194ms\tremaining: 331ms\n",
      "37:\tlearn: 1065.6573835\ttotal: 199ms\tremaining: 325ms\n",
      "38:\tlearn: 1065.1125108\ttotal: 204ms\tremaining: 319ms\n",
      "39:\tlearn: 1064.4142781\ttotal: 209ms\tremaining: 314ms\n",
      "40:\tlearn: 1063.5690259\ttotal: 214ms\tremaining: 309ms\n",
      "41:\tlearn: 1062.6861423\ttotal: 219ms\tremaining: 303ms\n",
      "42:\tlearn: 1062.2244257\ttotal: 224ms\tremaining: 297ms\n",
      "43:\tlearn: 1061.8460460\ttotal: 229ms\tremaining: 292ms\n",
      "44:\tlearn: 1061.6476810\ttotal: 234ms\tremaining: 286ms\n",
      "45:\tlearn: 1061.3272067\ttotal: 239ms\tremaining: 280ms\n",
      "46:\tlearn: 1060.8799980\ttotal: 243ms\tremaining: 274ms\n",
      "47:\tlearn: 1059.8994201\ttotal: 247ms\tremaining: 268ms\n",
      "48:\tlearn: 1058.9187619\ttotal: 252ms\tremaining: 262ms\n",
      "49:\tlearn: 1058.3842842\ttotal: 257ms\tremaining: 257ms\n",
      "50:\tlearn: 1057.8848457\ttotal: 261ms\tremaining: 251ms\n",
      "51:\tlearn: 1057.1161475\ttotal: 266ms\tremaining: 245ms\n",
      "52:\tlearn: 1056.6451379\ttotal: 271ms\tremaining: 240ms\n",
      "53:\tlearn: 1056.0627984\ttotal: 275ms\tremaining: 234ms\n",
      "54:\tlearn: 1055.1071159\ttotal: 280ms\tremaining: 229ms\n",
      "55:\tlearn: 1054.7365513\ttotal: 323ms\tremaining: 254ms\n",
      "56:\tlearn: 1053.5793181\ttotal: 329ms\tremaining: 248ms\n",
      "57:\tlearn: 1052.9430543\ttotal: 334ms\tremaining: 242ms\n",
      "58:\tlearn: 1051.9892927\ttotal: 339ms\tremaining: 236ms\n",
      "59:\tlearn: 1051.4919502\ttotal: 345ms\tremaining: 230ms\n",
      "60:\tlearn: 1050.9421893\ttotal: 350ms\tremaining: 224ms\n",
      "61:\tlearn: 1050.8293188\ttotal: 354ms\tremaining: 217ms\n",
      "62:\tlearn: 1050.4436043\ttotal: 359ms\tremaining: 211ms\n",
      "63:\tlearn: 1049.8806833\ttotal: 364ms\tremaining: 205ms\n",
      "64:\tlearn: 1049.0981225\ttotal: 369ms\tremaining: 199ms\n",
      "65:\tlearn: 1048.6159998\ttotal: 374ms\tremaining: 193ms\n",
      "66:\tlearn: 1048.2421933\ttotal: 378ms\tremaining: 186ms\n",
      "67:\tlearn: 1047.9495124\ttotal: 383ms\tremaining: 180ms\n",
      "68:\tlearn: 1047.8333019\ttotal: 388ms\tremaining: 174ms\n",
      "69:\tlearn: 1047.1392467\ttotal: 392ms\tremaining: 168ms\n",
      "70:\tlearn: 1046.3200241\ttotal: 397ms\tremaining: 162ms\n",
      "71:\tlearn: 1046.0507130\ttotal: 401ms\tremaining: 156ms\n",
      "72:\tlearn: 1045.6737214\ttotal: 406ms\tremaining: 150ms\n",
      "73:\tlearn: 1045.3337513\ttotal: 411ms\tremaining: 144ms\n",
      "74:\tlearn: 1044.4827816\ttotal: 416ms\tremaining: 139ms\n",
      "75:\tlearn: 1044.0574174\ttotal: 420ms\tremaining: 133ms\n",
      "76:\tlearn: 1043.2928016\ttotal: 425ms\tremaining: 127ms\n",
      "77:\tlearn: 1042.5837030\ttotal: 429ms\tremaining: 121ms\n",
      "78:\tlearn: 1042.0494011\ttotal: 434ms\tremaining: 115ms\n",
      "79:\tlearn: 1041.1777525\ttotal: 438ms\tremaining: 110ms\n",
      "80:\tlearn: 1040.6030777\ttotal: 443ms\tremaining: 104ms\n",
      "81:\tlearn: 1040.0033809\ttotal: 448ms\tremaining: 98.3ms\n",
      "82:\tlearn: 1039.3006856\ttotal: 453ms\tremaining: 92.7ms\n",
      "83:\tlearn: 1039.0542673\ttotal: 457ms\tremaining: 87.1ms\n",
      "84:\tlearn: 1037.8421414\ttotal: 462ms\tremaining: 81.5ms\n",
      "85:\tlearn: 1036.5262471\ttotal: 466ms\tremaining: 75.9ms\n",
      "86:\tlearn: 1035.9267822\ttotal: 471ms\tremaining: 70.4ms\n",
      "87:\tlearn: 1035.5675202\ttotal: 476ms\tremaining: 64.9ms\n",
      "88:\tlearn: 1035.0442806\ttotal: 480ms\tremaining: 59.3ms\n",
      "89:\tlearn: 1034.2128168\ttotal: 485ms\tremaining: 53.8ms\n",
      "90:\tlearn: 1033.8667030\ttotal: 489ms\tremaining: 48.4ms\n",
      "91:\tlearn: 1033.5903107\ttotal: 495ms\tremaining: 43ms\n",
      "92:\tlearn: 1033.1342945\ttotal: 500ms\tremaining: 37.7ms\n",
      "93:\tlearn: 1032.6944770\ttotal: 505ms\tremaining: 32.3ms\n",
      "94:\tlearn: 1031.9335433\ttotal: 511ms\tremaining: 26.9ms\n",
      "95:\tlearn: 1031.3623747\ttotal: 516ms\tremaining: 21.5ms\n",
      "96:\tlearn: 1030.9269578\ttotal: 522ms\tremaining: 16.1ms\n",
      "97:\tlearn: 1030.4509833\ttotal: 526ms\tremaining: 10.7ms\n",
      "98:\tlearn: 1029.6154721\ttotal: 531ms\tremaining: 5.37ms\n",
      "99:\tlearn: 1029.2487455\ttotal: 536ms\tremaining: 0us\n",
      "R2 :\t 0.6110675241049808\n",
      "Adj R2:\t 0.6103244138482737\n",
      "MSE:\t 1154511.7502873528\n",
      "RMSE:\t 1074.4820846749158 \n",
      "\n"
     ]
    }
   ],
   "source": [
    "model_results(CatBoostRegressor(iterations=100,learning_rate= 0.1), X_train,y_train,X_test,y_test)"
   ]
  },
  {
   "cell_type": "code",
   "execution_count": 211,
   "id": "e72da608",
   "metadata": {},
   "outputs": [
    {
     "name": "stdout",
     "output_type": "stream",
     "text": [
      "0:\tlearn: 1611.7970088\ttotal: 4.92ms\tremaining: 487ms\n",
      "1:\tlearn: 1536.0290793\ttotal: 9.71ms\tremaining: 476ms\n",
      "2:\tlearn: 1467.8669564\ttotal: 13.9ms\tremaining: 448ms\n",
      "3:\tlearn: 1408.9269887\ttotal: 18.3ms\tremaining: 439ms\n",
      "4:\tlearn: 1358.0727156\ttotal: 22.6ms\tremaining: 429ms\n",
      "5:\tlearn: 1313.7002592\ttotal: 27.1ms\tremaining: 424ms\n",
      "6:\tlearn: 1276.7805320\ttotal: 31.3ms\tremaining: 416ms\n",
      "7:\tlearn: 1243.5235056\ttotal: 35.3ms\tremaining: 406ms\n",
      "8:\tlearn: 1218.3609627\ttotal: 38.9ms\tremaining: 393ms\n",
      "9:\tlearn: 1193.9867653\ttotal: 43.3ms\tremaining: 389ms\n",
      "10:\tlearn: 1174.8935305\ttotal: 47.6ms\tremaining: 385ms\n",
      "11:\tlearn: 1157.7210274\ttotal: 51.8ms\tremaining: 380ms\n",
      "12:\tlearn: 1143.5299615\ttotal: 56.1ms\tremaining: 376ms\n",
      "13:\tlearn: 1132.6172851\ttotal: 60.3ms\tremaining: 370ms\n",
      "14:\tlearn: 1122.3155494\ttotal: 64.3ms\tremaining: 364ms\n",
      "15:\tlearn: 1113.8953167\ttotal: 68.3ms\tremaining: 359ms\n",
      "16:\tlearn: 1107.5866024\ttotal: 72.4ms\tremaining: 354ms\n",
      "17:\tlearn: 1101.7482863\ttotal: 76.5ms\tremaining: 348ms\n",
      "18:\tlearn: 1096.6832502\ttotal: 80.4ms\tremaining: 343ms\n",
      "19:\tlearn: 1092.1038030\ttotal: 84.4ms\tremaining: 338ms\n",
      "20:\tlearn: 1089.3813357\ttotal: 87.4ms\tremaining: 329ms\n",
      "21:\tlearn: 1087.3194259\ttotal: 90.7ms\tremaining: 322ms\n",
      "22:\tlearn: 1084.8745525\ttotal: 94.6ms\tremaining: 317ms\n",
      "23:\tlearn: 1082.5193068\ttotal: 98.8ms\tremaining: 313ms\n",
      "24:\tlearn: 1080.8859319\ttotal: 103ms\tremaining: 309ms\n",
      "25:\tlearn: 1078.7703335\ttotal: 107ms\tremaining: 305ms\n",
      "26:\tlearn: 1076.9248754\ttotal: 111ms\tremaining: 301ms\n",
      "27:\tlearn: 1075.5753499\ttotal: 115ms\tremaining: 296ms\n",
      "28:\tlearn: 1074.1281553\ttotal: 119ms\tremaining: 292ms\n",
      "29:\tlearn: 1072.8333774\ttotal: 123ms\tremaining: 288ms\n",
      "30:\tlearn: 1071.4739052\ttotal: 127ms\tremaining: 283ms\n",
      "31:\tlearn: 1070.1490951\ttotal: 131ms\tremaining: 279ms\n",
      "32:\tlearn: 1068.9295036\ttotal: 135ms\tremaining: 275ms\n",
      "33:\tlearn: 1068.1838574\ttotal: 139ms\tremaining: 271ms\n",
      "34:\tlearn: 1067.4108592\ttotal: 143ms\tremaining: 266ms\n",
      "35:\tlearn: 1066.9662762\ttotal: 147ms\tremaining: 262ms\n",
      "36:\tlearn: 1066.1797657\ttotal: 151ms\tremaining: 258ms\n",
      "37:\tlearn: 1065.6573835\ttotal: 155ms\tremaining: 253ms\n",
      "38:\tlearn: 1065.1125108\ttotal: 159ms\tremaining: 249ms\n",
      "39:\tlearn: 1064.4142781\ttotal: 163ms\tremaining: 245ms\n",
      "40:\tlearn: 1063.5690259\ttotal: 167ms\tremaining: 241ms\n",
      "41:\tlearn: 1062.6861423\ttotal: 171ms\tremaining: 236ms\n",
      "42:\tlearn: 1062.2244257\ttotal: 175ms\tremaining: 232ms\n",
      "43:\tlearn: 1061.8460460\ttotal: 179ms\tremaining: 228ms\n",
      "44:\tlearn: 1061.6476810\ttotal: 184ms\tremaining: 225ms\n",
      "45:\tlearn: 1061.3272067\ttotal: 188ms\tremaining: 221ms\n",
      "46:\tlearn: 1060.8799980\ttotal: 193ms\tremaining: 217ms\n",
      "47:\tlearn: 1059.8994201\ttotal: 197ms\tremaining: 214ms\n",
      "48:\tlearn: 1058.9187619\ttotal: 202ms\tremaining: 210ms\n",
      "49:\tlearn: 1058.3842842\ttotal: 206ms\tremaining: 206ms\n",
      "50:\tlearn: 1057.8848457\ttotal: 210ms\tremaining: 202ms\n",
      "51:\tlearn: 1057.1161475\ttotal: 215ms\tremaining: 198ms\n",
      "52:\tlearn: 1056.6451379\ttotal: 219ms\tremaining: 194ms\n",
      "53:\tlearn: 1056.0627984\ttotal: 223ms\tremaining: 190ms\n",
      "54:\tlearn: 1055.1071159\ttotal: 227ms\tremaining: 186ms\n",
      "55:\tlearn: 1054.7365513\ttotal: 231ms\tremaining: 181ms\n",
      "56:\tlearn: 1053.5793181\ttotal: 235ms\tremaining: 177ms\n",
      "57:\tlearn: 1052.9430543\ttotal: 239ms\tremaining: 173ms\n",
      "58:\tlearn: 1051.9892927\ttotal: 244ms\tremaining: 169ms\n",
      "59:\tlearn: 1051.4919502\ttotal: 248ms\tremaining: 165ms\n",
      "60:\tlearn: 1050.9421893\ttotal: 252ms\tremaining: 161ms\n",
      "61:\tlearn: 1050.8293188\ttotal: 256ms\tremaining: 157ms\n",
      "62:\tlearn: 1050.4436043\ttotal: 260ms\tremaining: 153ms\n",
      "63:\tlearn: 1049.8806833\ttotal: 265ms\tremaining: 149ms\n",
      "64:\tlearn: 1049.0981225\ttotal: 269ms\tremaining: 145ms\n",
      "65:\tlearn: 1048.6159998\ttotal: 273ms\tremaining: 141ms\n",
      "66:\tlearn: 1048.2421933\ttotal: 277ms\tremaining: 136ms\n",
      "67:\tlearn: 1047.9495124\ttotal: 281ms\tremaining: 132ms\n",
      "68:\tlearn: 1047.8333019\ttotal: 285ms\tremaining: 128ms\n",
      "69:\tlearn: 1047.1392467\ttotal: 289ms\tremaining: 124ms\n",
      "70:\tlearn: 1046.3200241\ttotal: 293ms\tremaining: 120ms\n",
      "71:\tlearn: 1046.0507130\ttotal: 297ms\tremaining: 116ms\n",
      "72:\tlearn: 1045.6737214\ttotal: 301ms\tremaining: 111ms\n",
      "73:\tlearn: 1045.3337513\ttotal: 305ms\tremaining: 107ms\n",
      "74:\tlearn: 1044.4827816\ttotal: 309ms\tremaining: 103ms\n",
      "75:\tlearn: 1044.0574174\ttotal: 313ms\tremaining: 98.9ms\n",
      "76:\tlearn: 1043.2928016\ttotal: 317ms\tremaining: 94.8ms\n",
      "77:\tlearn: 1042.5837030\ttotal: 321ms\tremaining: 90.6ms\n",
      "78:\tlearn: 1042.0494011\ttotal: 326ms\tremaining: 86.6ms\n",
      "79:\tlearn: 1041.1777525\ttotal: 330ms\tremaining: 82.4ms\n",
      "80:\tlearn: 1040.6030777\ttotal: 334ms\tremaining: 78.3ms\n",
      "81:\tlearn: 1040.0033809\ttotal: 338ms\tremaining: 74.3ms\n",
      "82:\tlearn: 1039.3006856\ttotal: 343ms\tremaining: 70.2ms\n",
      "83:\tlearn: 1039.0542673\ttotal: 347ms\tremaining: 66ms\n",
      "84:\tlearn: 1037.8421414\ttotal: 351ms\tremaining: 61.9ms\n",
      "85:\tlearn: 1036.5262471\ttotal: 355ms\tremaining: 57.8ms\n",
      "86:\tlearn: 1035.9267822\ttotal: 359ms\tremaining: 53.7ms\n",
      "87:\tlearn: 1035.5675202\ttotal: 364ms\tremaining: 49.6ms\n",
      "88:\tlearn: 1035.0442806\ttotal: 369ms\tremaining: 45.6ms\n",
      "89:\tlearn: 1034.2128168\ttotal: 373ms\tremaining: 41.5ms\n",
      "90:\tlearn: 1033.8667030\ttotal: 377ms\tremaining: 37.3ms\n",
      "91:\tlearn: 1033.5903107\ttotal: 382ms\tremaining: 33.2ms\n",
      "92:\tlearn: 1033.1342945\ttotal: 386ms\tremaining: 29.1ms\n",
      "93:\tlearn: 1032.6944770\ttotal: 390ms\tremaining: 24.9ms\n",
      "94:\tlearn: 1031.9335433\ttotal: 394ms\tremaining: 20.7ms\n",
      "95:\tlearn: 1031.3623747\ttotal: 398ms\tremaining: 16.6ms\n",
      "96:\tlearn: 1030.9269578\ttotal: 403ms\tremaining: 12.5ms\n",
      "97:\tlearn: 1030.4509833\ttotal: 407ms\tremaining: 8.3ms\n",
      "98:\tlearn: 1029.6154721\ttotal: 411ms\tremaining: 4.15ms\n",
      "99:\tlearn: 1029.2487455\ttotal: 415ms\tremaining: 0us\n"
     ]
    },
    {
     "data": {
      "text/plain": [
       "{'iterations': 100, 'learning_rate': 0.1}"
      ]
     },
     "execution_count": 211,
     "metadata": {},
     "output_type": "execute_result"
    }
   ],
   "source": [
    "# Lets tune the model a little using gridsearchCV\n",
    "\n",
    "param = {'iterations':[100,200,250,300,350,400], 'learning_rate':[0.1,0.001]}\n",
    "\n",
    "gscv7 = GridSearchCV(estimator= CatBoostRegressor(),\n",
    "                    param_grid = param, \n",
    "                    scoring='r2',\n",
    "                     n_jobs= -1,\n",
    "                    cv = 3)\n",
    "\n",
    "gscv7.fit(X_train,y_train)\n",
    "gscv7.best_params_"
   ]
  },
  {
   "cell_type": "markdown",
   "id": "22704b3c",
   "metadata": {},
   "source": [
    "### XGBoost Algorithm"
   ]
  },
  {
   "cell_type": "code",
   "execution_count": 213,
   "id": "75b62303",
   "metadata": {},
   "outputs": [
    {
     "name": "stdout",
     "output_type": "stream",
     "text": [
      "XGBRegressor(base_score=None, booster=None, callbacks=None,\n",
      "             colsample_bylevel=None, colsample_bynode=None,\n",
      "             colsample_bytree=None, early_stopping_rounds=None,\n",
      "             enable_categorical=False, eval_metric=None, gamma=None,\n",
      "             gpu_id=None, grow_policy=None, importance_type=None,\n",
      "             interaction_constraints=None, learning_rate=None, max_bin=None,\n",
      "             max_cat_to_onehot=None, max_delta_step=None, max_depth=5,\n",
      "             max_leaves=None, min_child_weight=None, missing=nan,\n",
      "             monotone_constraints=None, n_estimators=100, n_jobs=None,\n",
      "             num_parallel_tree=None, predictor=None, random_state=None,\n",
      "             reg_alpha=None, reg_lambda=None, ...)\n",
      "R2 :\t 0.5540617771553618\n",
      "Adj R2:\t 0.553209749392725\n",
      "MSE:\t 1323728.2821179503\n",
      "RMSE:\t 1150.533911763556 \n",
      "\n"
     ]
    }
   ],
   "source": [
    "model_results(XGBRegressor(n_estimators=100,max_depth= 5), X_train,y_train,X_test,y_test)"
   ]
  },
  {
   "cell_type": "code",
   "execution_count": 214,
   "id": "e7b0c170",
   "metadata": {},
   "outputs": [
    {
     "data": {
      "text/plain": [
       "{'max_depth': 6, 'n_estimators': 200}"
      ]
     },
     "execution_count": 214,
     "metadata": {},
     "output_type": "execute_result"
    }
   ],
   "source": [
    "# Lets tune the model a little using gridsearchCV\n",
    "\n",
    "param = {'n_estimators':[200,250,300,350,400], 'max_depth':[6,7,8]}\n",
    "\n",
    "gscv8 = GridSearchCV(estimator= XGBRegressor(),\n",
    "                    param_grid = param, \n",
    "                    scoring='r2',\n",
    "                     n_jobs= -1,\n",
    "                    cv = 3)\n",
    "\n",
    "gscv8.fit(X_train,y_train)\n",
    "gscv8.best_params_"
   ]
  },
  {
   "cell_type": "code",
   "execution_count": 222,
   "id": "a756b1e8",
   "metadata": {},
   "outputs": [
    {
     "name": "stdout",
     "output_type": "stream",
     "text": [
      "XGBRegressor(base_score=None, booster=None, callbacks=None,\n",
      "             colsample_bylevel=None, colsample_bynode=None,\n",
      "             colsample_bytree=None, early_stopping_rounds=None,\n",
      "             enable_categorical=False, eval_metric=None, gamma=None,\n",
      "             gpu_id=None, grow_policy=None, importance_type=None,\n",
      "             interaction_constraints=None, learning_rate=None, max_bin=None,\n",
      "             max_cat_to_onehot=None, max_delta_step=None, max_depth=6,\n",
      "             max_leaves=None, min_child_weight=None, missing=nan,\n",
      "             monotone_constraints=None, n_estimators=200, n_jobs=None,\n",
      "             num_parallel_tree=None, predictor=None, random_state=None,\n",
      "             reg_alpha=None, reg_lambda=None, ...)\n",
      "R2 :\t 0.4877577472200615\n",
      "Adj R2:\t 0.48677903627265706\n",
      "MSE:\t 1520545.946869532\n",
      "RMSE:\t 1233.1041914086304 \n",
      "\n"
     ]
    }
   ],
   "source": [
    "# using the best parameter to build the XGBRegressor model\n",
    "\n",
    "model_results(XGBRegressor(**gscv8.best_params_),X_train,y_train,X_test,y_test)"
   ]
  },
  {
   "cell_type": "markdown",
   "id": "976bf505",
   "metadata": {},
   "source": [
    "### LGBM Algorithm"
   ]
  },
  {
   "cell_type": "code",
   "execution_count": 216,
   "id": "9273c7b7",
   "metadata": {},
   "outputs": [
    {
     "name": "stdout",
     "output_type": "stream",
     "text": [
      "LGBMRegressor()\n",
      "R2 :\t 0.5863140402715606\n",
      "Adj R2:\t 0.585523634998711\n",
      "MSE:\t 1227990.2837537776\n",
      "RMSE:\t 1108.147230179175 \n",
      "\n"
     ]
    }
   ],
   "source": [
    "model_results(LGBMRegressor(n_estimators=100), X_train,y_train,X_test,y_test)"
   ]
  },
  {
   "cell_type": "code",
   "execution_count": 219,
   "id": "5786e873",
   "metadata": {},
   "outputs": [
    {
     "data": {
      "text/plain": [
       "{'n_estimators': 100}"
      ]
     },
     "execution_count": 219,
     "metadata": {},
     "output_type": "execute_result"
    }
   ],
   "source": [
    "param = {'n_estimators':[100,200,250,300,350,400]}\n",
    "\n",
    "gscv9 = GridSearchCV(estimator= LGBMRegressor(),\n",
    "                    param_grid = param, \n",
    "                    scoring='r2',\n",
    "                     n_jobs= -1,\n",
    "                    cv = 3)\n",
    "\n",
    "gscv9.fit(X_train,y_train)\n",
    "gscv9.best_params_"
   ]
  },
  {
   "cell_type": "markdown",
   "id": "554bb9a2",
   "metadata": {},
   "source": [
    "### Bagging Regressor"
   ]
  },
  {
   "cell_type": "code",
   "execution_count": 220,
   "id": "8adbd336",
   "metadata": {},
   "outputs": [
    {
     "name": "stdout",
     "output_type": "stream",
     "text": [
      "BaggingRegressor(n_estimators=100)\n",
      "R2 :\t 0.5613655276729754\n",
      "Adj R2:\t 0.5605274547540673\n",
      "MSE:\t 1302047.7429077758\n",
      "RMSE:\t 1141.0730664194014 \n",
      "\n"
     ]
    }
   ],
   "source": [
    "model_results(BaggingRegressor(n_estimators=100), X_train,y_train,X_test,y_test)"
   ]
  },
  {
   "cell_type": "code",
   "execution_count": 221,
   "id": "83e01d91",
   "metadata": {},
   "outputs": [
    {
     "data": {
      "text/plain": [
       "{'n_estimators': 300}"
      ]
     },
     "execution_count": 221,
     "metadata": {},
     "output_type": "execute_result"
    }
   ],
   "source": [
    "param = {'n_estimators':[100,200,250,300,350,400]}\n",
    "\n",
    "gscv10 = GridSearchCV(estimator= BaggingRegressor(),\n",
    "                    param_grid = param, \n",
    "                    scoring='r2',\n",
    "                     n_jobs= -1,\n",
    "                    cv = 3)\n",
    "\n",
    "gscv10.fit(X_train,y_train)\n",
    "gscv10.best_params_"
   ]
  },
  {
   "cell_type": "code",
   "execution_count": 223,
   "id": "598918fc",
   "metadata": {},
   "outputs": [
    {
     "name": "stdout",
     "output_type": "stream",
     "text": [
      "BaggingRegressor(n_estimators=300)\n",
      "R2 :\t 0.5661104763636674\n",
      "Adj R2:\t 0.5652814693373194\n",
      "MSE:\t 1287962.781230795\n",
      "RMSE:\t 1134.8844792448238 \n",
      "\n"
     ]
    }
   ],
   "source": [
    "# using the best parameter to build the BaggingRegressor model\n",
    "\n",
    "model_results(BaggingRegressor(**gscv10.best_params_),X_train,y_train,X_test,y_test)"
   ]
  },
  {
   "cell_type": "markdown",
   "id": "7be31b47",
   "metadata": {},
   "source": [
    "### Stacking Regressor Algorithm"
   ]
  },
  {
   "cell_type": "code",
   "execution_count": 225,
   "id": "e5fb1828",
   "metadata": {},
   "outputs": [
    {
     "name": "stdout",
     "output_type": "stream",
     "text": [
      "StackingRegressor(estimators=[('DT', DecisionTreeRegressor()),\n",
      "                              ('KNN', KNeighborsRegressor()),\n",
      "                              ('GB', GradientBoostingRegressor())])\n",
      "R2 :\t 0.6012292301688453\n",
      "Adj R2:\t 0.600467322466346\n",
      "MSE:\t 1183715.8580850135\n",
      "RMSE:\t 1087.9870670577907 \n",
      "\n"
     ]
    }
   ],
   "source": [
    "estimators = [('DT', DecisionTreeRegressor()),('KNN', KNeighborsRegressor()),('GB', GradientBoostingRegressor())]\n",
    "\n",
    "\n",
    "model_results(StackingRegressor(estimators=estimators), \n",
    "                                X_train,y_train,X_test,y_test)"
   ]
  },
  {
   "cell_type": "markdown",
   "id": "68f4ff07",
   "metadata": {},
   "source": [
    "# Submission "
   ]
  },
  {
   "cell_type": "code",
   "execution_count": 227,
   "id": "93a0a988",
   "metadata": {},
   "outputs": [
    {
     "data": {
      "text/html": [
       "<div>\n",
       "<style scoped>\n",
       "    .dataframe tbody tr th:only-of-type {\n",
       "        vertical-align: middle;\n",
       "    }\n",
       "\n",
       "    .dataframe tbody tr th {\n",
       "        vertical-align: top;\n",
       "    }\n",
       "\n",
       "    .dataframe thead th {\n",
       "        text-align: right;\n",
       "    }\n",
       "</style>\n",
       "<table border=\"1\" class=\"dataframe\">\n",
       "  <thead>\n",
       "    <tr style=\"text-align: right;\">\n",
       "      <th></th>\n",
       "      <th>Item_Weight</th>\n",
       "      <th>Item_Visibility</th>\n",
       "      <th>Item_MRP</th>\n",
       "      <th>Outlet_Size</th>\n",
       "      <th>Outlet_Location_Type</th>\n",
       "      <th>Outlet_Type</th>\n",
       "      <th>performing</th>\n",
       "      <th>Vintage</th>\n",
       "      <th>Item_Fat_Content_Non Edible</th>\n",
       "      <th>Item_Fat_Content_Regular</th>\n",
       "      <th>Item_ID_Cat_FD</th>\n",
       "      <th>Item_ID_Cat_NC</th>\n",
       "      <th>Item_Type_Perish_Perishables</th>\n",
       "    </tr>\n",
       "  </thead>\n",
       "  <tbody>\n",
       "    <tr>\n",
       "      <th>0</th>\n",
       "      <td>20.750000</td>\n",
       "      <td>0.007565</td>\n",
       "      <td>107.8622</td>\n",
       "      <td>2</td>\n",
       "      <td>0</td>\n",
       "      <td>1</td>\n",
       "      <td>0</td>\n",
       "      <td>14</td>\n",
       "      <td>0</td>\n",
       "      <td>0</td>\n",
       "      <td>1</td>\n",
       "      <td>0</td>\n",
       "      <td>1</td>\n",
       "    </tr>\n",
       "    <tr>\n",
       "      <th>1</th>\n",
       "      <td>8.300000</td>\n",
       "      <td>0.038428</td>\n",
       "      <td>87.3198</td>\n",
       "      <td>1</td>\n",
       "      <td>1</td>\n",
       "      <td>1</td>\n",
       "      <td>0</td>\n",
       "      <td>6</td>\n",
       "      <td>0</td>\n",
       "      <td>1</td>\n",
       "      <td>1</td>\n",
       "      <td>0</td>\n",
       "      <td>1</td>\n",
       "    </tr>\n",
       "    <tr>\n",
       "      <th>2</th>\n",
       "      <td>14.600000</td>\n",
       "      <td>0.099575</td>\n",
       "      <td>241.7538</td>\n",
       "      <td>1</td>\n",
       "      <td>2</td>\n",
       "      <td>0</td>\n",
       "      <td>2</td>\n",
       "      <td>15</td>\n",
       "      <td>1</td>\n",
       "      <td>0</td>\n",
       "      <td>0</td>\n",
       "      <td>1</td>\n",
       "      <td>0</td>\n",
       "    </tr>\n",
       "    <tr>\n",
       "      <th>3</th>\n",
       "      <td>7.315000</td>\n",
       "      <td>0.015388</td>\n",
       "      <td>155.0340</td>\n",
       "      <td>1</td>\n",
       "      <td>1</td>\n",
       "      <td>1</td>\n",
       "      <td>0</td>\n",
       "      <td>6</td>\n",
       "      <td>0</td>\n",
       "      <td>0</td>\n",
       "      <td>1</td>\n",
       "      <td>0</td>\n",
       "      <td>1</td>\n",
       "    </tr>\n",
       "    <tr>\n",
       "      <th>4</th>\n",
       "      <td>12.792854</td>\n",
       "      <td>0.118599</td>\n",
       "      <td>234.2300</td>\n",
       "      <td>2</td>\n",
       "      <td>2</td>\n",
       "      <td>3</td>\n",
       "      <td>1</td>\n",
       "      <td>28</td>\n",
       "      <td>0</td>\n",
       "      <td>1</td>\n",
       "      <td>1</td>\n",
       "      <td>0</td>\n",
       "      <td>1</td>\n",
       "    </tr>\n",
       "  </tbody>\n",
       "</table>\n",
       "</div>"
      ],
      "text/plain": [
       "   Item_Weight  Item_Visibility  Item_MRP  Outlet_Size  Outlet_Location_Type  \\\n",
       "0    20.750000         0.007565  107.8622            2                     0   \n",
       "1     8.300000         0.038428   87.3198            1                     1   \n",
       "2    14.600000         0.099575  241.7538            1                     2   \n",
       "3     7.315000         0.015388  155.0340            1                     1   \n",
       "4    12.792854         0.118599  234.2300            2                     2   \n",
       "\n",
       "   Outlet_Type  performing  Vintage  Item_Fat_Content_Non Edible  \\\n",
       "0            1           0       14                            0   \n",
       "1            1           0        6                            0   \n",
       "2            0           2       15                            1   \n",
       "3            1           0        6                            0   \n",
       "4            3           1       28                            0   \n",
       "\n",
       "   Item_Fat_Content_Regular  Item_ID_Cat_FD  Item_ID_Cat_NC  \\\n",
       "0                         0               1               0   \n",
       "1                         1               1               0   \n",
       "2                         0               0               1   \n",
       "3                         0               1               0   \n",
       "4                         1               1               0   \n",
       "\n",
       "   Item_Type_Perish_Perishables  \n",
       "0                             1  \n",
       "1                             1  \n",
       "2                             0  \n",
       "3                             1  \n",
       "4                             1  "
      ]
     },
     "execution_count": 227,
     "metadata": {},
     "output_type": "execute_result"
    }
   ],
   "source": [
    "test_f.head()"
   ]
  },
  {
   "cell_type": "code",
   "execution_count": 228,
   "id": "27662db6",
   "metadata": {},
   "outputs": [],
   "source": [
    "# using CatBoost Model as final model as the RMSE is 1074, which is lowest among all"
   ]
  },
  {
   "cell_type": "code",
   "execution_count": 231,
   "id": "12e986d1",
   "metadata": {
    "scrolled": true
   },
   "outputs": [
    {
     "name": "stdout",
     "output_type": "stream",
     "text": [
      "0:\tlearn: 1611.7970088\ttotal: 4.69ms\tremaining: 464ms\n",
      "1:\tlearn: 1536.0290793\ttotal: 9.01ms\tremaining: 441ms\n",
      "2:\tlearn: 1467.8669564\ttotal: 14ms\tremaining: 453ms\n",
      "3:\tlearn: 1408.9269887\ttotal: 19.4ms\tremaining: 464ms\n",
      "4:\tlearn: 1358.0727156\ttotal: 24.5ms\tremaining: 465ms\n",
      "5:\tlearn: 1313.7002592\ttotal: 30.5ms\tremaining: 478ms\n",
      "6:\tlearn: 1276.7805320\ttotal: 35.6ms\tremaining: 472ms\n",
      "7:\tlearn: 1243.5235056\ttotal: 41.2ms\tremaining: 474ms\n",
      "8:\tlearn: 1218.3609627\ttotal: 45.3ms\tremaining: 458ms\n",
      "9:\tlearn: 1193.9867653\ttotal: 50.3ms\tremaining: 453ms\n",
      "10:\tlearn: 1174.8935305\ttotal: 56ms\tremaining: 453ms\n",
      "11:\tlearn: 1157.7210274\ttotal: 61.4ms\tremaining: 450ms\n",
      "12:\tlearn: 1143.5299615\ttotal: 67.2ms\tremaining: 450ms\n",
      "13:\tlearn: 1132.6172851\ttotal: 73ms\tremaining: 449ms\n",
      "14:\tlearn: 1122.3155494\ttotal: 78.5ms\tremaining: 445ms\n",
      "15:\tlearn: 1113.8953167\ttotal: 83.5ms\tremaining: 438ms\n",
      "16:\tlearn: 1107.5866024\ttotal: 88.8ms\tremaining: 434ms\n",
      "17:\tlearn: 1101.7482863\ttotal: 94.3ms\tremaining: 430ms\n",
      "18:\tlearn: 1096.6832502\ttotal: 100ms\tremaining: 428ms\n",
      "19:\tlearn: 1092.1038030\ttotal: 106ms\tremaining: 424ms\n",
      "20:\tlearn: 1089.3813357\ttotal: 110ms\tremaining: 412ms\n",
      "21:\tlearn: 1087.3194259\ttotal: 114ms\tremaining: 403ms\n",
      "22:\tlearn: 1084.8745525\ttotal: 119ms\tremaining: 398ms\n",
      "23:\tlearn: 1082.5193068\ttotal: 124ms\tremaining: 393ms\n",
      "24:\tlearn: 1080.8859319\ttotal: 130ms\tremaining: 389ms\n",
      "25:\tlearn: 1078.7703335\ttotal: 135ms\tremaining: 383ms\n",
      "26:\tlearn: 1076.9248754\ttotal: 140ms\tremaining: 377ms\n",
      "27:\tlearn: 1075.5753499\ttotal: 145ms\tremaining: 373ms\n",
      "28:\tlearn: 1074.1281553\ttotal: 150ms\tremaining: 367ms\n",
      "29:\tlearn: 1072.8333774\ttotal: 155ms\tremaining: 362ms\n",
      "30:\tlearn: 1071.4739052\ttotal: 160ms\tremaining: 357ms\n",
      "31:\tlearn: 1070.1490951\ttotal: 166ms\tremaining: 352ms\n",
      "32:\tlearn: 1068.9295036\ttotal: 210ms\tremaining: 426ms\n",
      "33:\tlearn: 1068.1838574\ttotal: 216ms\tremaining: 419ms\n",
      "34:\tlearn: 1067.4108592\ttotal: 221ms\tremaining: 411ms\n",
      "35:\tlearn: 1066.9662762\ttotal: 227ms\tremaining: 403ms\n",
      "36:\tlearn: 1066.1797657\ttotal: 232ms\tremaining: 395ms\n",
      "37:\tlearn: 1065.6573835\ttotal: 238ms\tremaining: 388ms\n",
      "38:\tlearn: 1065.1125108\ttotal: 243ms\tremaining: 380ms\n",
      "39:\tlearn: 1064.4142781\ttotal: 249ms\tremaining: 374ms\n",
      "40:\tlearn: 1063.5690259\ttotal: 255ms\tremaining: 367ms\n",
      "41:\tlearn: 1062.6861423\ttotal: 261ms\tremaining: 360ms\n",
      "42:\tlearn: 1062.2244257\ttotal: 266ms\tremaining: 352ms\n",
      "43:\tlearn: 1061.8460460\ttotal: 271ms\tremaining: 345ms\n",
      "44:\tlearn: 1061.6476810\ttotal: 276ms\tremaining: 337ms\n",
      "45:\tlearn: 1061.3272067\ttotal: 281ms\tremaining: 329ms\n",
      "46:\tlearn: 1060.8799980\ttotal: 285ms\tremaining: 322ms\n",
      "47:\tlearn: 1059.8994201\ttotal: 290ms\tremaining: 314ms\n",
      "48:\tlearn: 1058.9187619\ttotal: 294ms\tremaining: 306ms\n",
      "49:\tlearn: 1058.3842842\ttotal: 299ms\tremaining: 299ms\n",
      "50:\tlearn: 1057.8848457\ttotal: 304ms\tremaining: 292ms\n",
      "51:\tlearn: 1057.1161475\ttotal: 308ms\tremaining: 285ms\n",
      "52:\tlearn: 1056.6451379\ttotal: 313ms\tremaining: 278ms\n",
      "53:\tlearn: 1056.0627984\ttotal: 318ms\tremaining: 271ms\n",
      "54:\tlearn: 1055.1071159\ttotal: 322ms\tremaining: 264ms\n",
      "55:\tlearn: 1054.7365513\ttotal: 327ms\tremaining: 257ms\n",
      "56:\tlearn: 1053.5793181\ttotal: 333ms\tremaining: 251ms\n",
      "57:\tlearn: 1052.9430543\ttotal: 337ms\tremaining: 244ms\n",
      "58:\tlearn: 1051.9892927\ttotal: 342ms\tremaining: 238ms\n",
      "59:\tlearn: 1051.4919502\ttotal: 347ms\tremaining: 231ms\n",
      "60:\tlearn: 1050.9421893\ttotal: 351ms\tremaining: 225ms\n",
      "61:\tlearn: 1050.8293188\ttotal: 355ms\tremaining: 218ms\n",
      "62:\tlearn: 1050.4436043\ttotal: 360ms\tremaining: 211ms\n",
      "63:\tlearn: 1049.8806833\ttotal: 365ms\tremaining: 205ms\n",
      "64:\tlearn: 1049.0981225\ttotal: 369ms\tremaining: 199ms\n",
      "65:\tlearn: 1048.6159998\ttotal: 374ms\tremaining: 192ms\n",
      "66:\tlearn: 1048.2421933\ttotal: 378ms\tremaining: 186ms\n",
      "67:\tlearn: 1047.9495124\ttotal: 384ms\tremaining: 181ms\n",
      "68:\tlearn: 1047.8333019\ttotal: 389ms\tremaining: 175ms\n",
      "69:\tlearn: 1047.1392467\ttotal: 394ms\tremaining: 169ms\n",
      "70:\tlearn: 1046.3200241\ttotal: 399ms\tremaining: 163ms\n",
      "71:\tlearn: 1046.0507130\ttotal: 404ms\tremaining: 157ms\n",
      "72:\tlearn: 1045.6737214\ttotal: 409ms\tremaining: 151ms\n",
      "73:\tlearn: 1045.3337513\ttotal: 414ms\tremaining: 146ms\n",
      "74:\tlearn: 1044.4827816\ttotal: 420ms\tremaining: 140ms\n",
      "75:\tlearn: 1044.0574174\ttotal: 425ms\tremaining: 134ms\n",
      "76:\tlearn: 1043.2928016\ttotal: 430ms\tremaining: 128ms\n",
      "77:\tlearn: 1042.5837030\ttotal: 435ms\tremaining: 123ms\n",
      "78:\tlearn: 1042.0494011\ttotal: 440ms\tremaining: 117ms\n",
      "79:\tlearn: 1041.1777525\ttotal: 444ms\tremaining: 111ms\n",
      "80:\tlearn: 1040.6030777\ttotal: 449ms\tremaining: 105ms\n",
      "81:\tlearn: 1040.0033809\ttotal: 454ms\tremaining: 99.6ms\n",
      "82:\tlearn: 1039.3006856\ttotal: 458ms\tremaining: 93.9ms\n",
      "83:\tlearn: 1039.0542673\ttotal: 463ms\tremaining: 88.2ms\n",
      "84:\tlearn: 1037.8421414\ttotal: 468ms\tremaining: 82.5ms\n",
      "85:\tlearn: 1036.5262471\ttotal: 472ms\tremaining: 76.8ms\n",
      "86:\tlearn: 1035.9267822\ttotal: 476ms\tremaining: 71.2ms\n",
      "87:\tlearn: 1035.5675202\ttotal: 481ms\tremaining: 65.6ms\n",
      "88:\tlearn: 1035.0442806\ttotal: 486ms\tremaining: 60ms\n",
      "89:\tlearn: 1034.2128168\ttotal: 490ms\tremaining: 54.5ms\n",
      "90:\tlearn: 1033.8667030\ttotal: 495ms\tremaining: 48.9ms\n",
      "91:\tlearn: 1033.5903107\ttotal: 499ms\tremaining: 43.4ms\n",
      "92:\tlearn: 1033.1342945\ttotal: 504ms\tremaining: 37.9ms\n",
      "93:\tlearn: 1032.6944770\ttotal: 508ms\tremaining: 32.4ms\n",
      "94:\tlearn: 1031.9335433\ttotal: 513ms\tremaining: 27ms\n",
      "95:\tlearn: 1031.3623747\ttotal: 517ms\tremaining: 21.5ms\n",
      "96:\tlearn: 1030.9269578\ttotal: 522ms\tremaining: 16.1ms\n",
      "97:\tlearn: 1030.4509833\ttotal: 526ms\tremaining: 10.7ms\n",
      "98:\tlearn: 1029.6154721\ttotal: 530ms\tremaining: 5.36ms\n",
      "99:\tlearn: 1029.2487455\ttotal: 535ms\tremaining: 0us\n",
      "0.6110675241049808\n"
     ]
    }
   ],
   "source": [
    "catmod = CatBoostRegressor(iterations=100,learning_rate= 0.1)\n",
    "model_f = catmod.fit(X_train,y_train)\n",
    "print(model_f.score(X_test,y_test))\n"
   ]
  },
  {
   "cell_type": "code",
   "execution_count": 232,
   "id": "50283960",
   "metadata": {},
   "outputs": [],
   "source": [
    "y_pred_test_f = model_f.predict(test_f) "
   ]
  },
  {
   "cell_type": "code",
   "execution_count": 233,
   "id": "3e050233",
   "metadata": {},
   "outputs": [
    {
     "data": {
      "text/plain": [
       "array([1681.21020719, 1415.79871315,  528.87416855, ..., 1901.33198894,\n",
       "       3825.0901294 , 1225.74389434])"
      ]
     },
     "execution_count": 233,
     "metadata": {},
     "output_type": "execute_result"
    }
   ],
   "source": [
    "y_pred_test_f"
   ]
  },
  {
   "cell_type": "code",
   "execution_count": 234,
   "id": "c381e2ed",
   "metadata": {},
   "outputs": [],
   "source": [
    "y_test_f = pd.DataFrame(y_pred_test_f)"
   ]
  },
  {
   "cell_type": "code",
   "execution_count": 235,
   "id": "bc457158",
   "metadata": {},
   "outputs": [],
   "source": [
    "y_test_f.to_csv('BMSale_Pred.csv')"
   ]
  }
 ],
 "metadata": {
  "kernelspec": {
   "display_name": "Python 3 (ipykernel)",
   "language": "python",
   "name": "python3"
  },
  "language_info": {
   "codemirror_mode": {
    "name": "ipython",
    "version": 3
   },
   "file_extension": ".py",
   "mimetype": "text/x-python",
   "name": "python",
   "nbconvert_exporter": "python",
   "pygments_lexer": "ipython3",
   "version": "3.9.7"
  }
 },
 "nbformat": 4,
 "nbformat_minor": 5
}
